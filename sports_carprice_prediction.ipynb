{
  "nbformat": 4,
  "nbformat_minor": 0,
  "metadata": {
    "colab": {
      "provenance": []
    },
    "kernelspec": {
      "name": "python3",
      "display_name": "Python 3"
    },
    "language_info": {
      "name": "python"
    }
  },
  "cells": [
    {
      "cell_type": "code",
      "execution_count": 6,
      "metadata": {
        "id": "hCLjxWTAJti6"
      },
      "outputs": [],
      "source": [
        "import pandas as pd\n",
        "import numpy as np\n",
        "import matplotlib.pyplot as plt\n",
        "import seaborn as sns\n",
        "import re\n",
        "from sklearn.preprocessing import LabelEncoder, StandardScaler\n",
        "from sklearn.metrics import mean_squared_error,r2_score\n",
        "pd.options.display.float_format = '{:.2f}'.format\n",
        "import warnings\n",
        "warnings.filterwarnings(\"ignore\")"
      ]
    },
    {
      "cell_type": "markdown",
      "source": [
        "Data Cleaning"
      ],
      "metadata": {
        "id": "O6z2X-33XnmM"
      }
    },
    {
      "cell_type": "code",
      "source": [
        "sports_cars = pd.read_csv(\"/content/Sport car price.csv\")\n"
      ],
      "metadata": {
        "id": "q-9QH5VNJzuv"
      },
      "execution_count": 7,
      "outputs": []
    },
    {
      "cell_type": "code",
      "source": [
        "from google.colab import drive\n",
        "drive.mount('/content/drive')"
      ],
      "metadata": {
        "colab": {
          "base_uri": "https://localhost:8080/"
        },
        "id": "hdwQBsUnL63L",
        "outputId": "89ec2ef2-6838-44e7-ca32-ddbe59fb4645"
      },
      "execution_count": 1,
      "outputs": [
        {
          "output_type": "stream",
          "name": "stdout",
          "text": [
            "Mounted at /content/drive\n"
          ]
        }
      ]
    },
    {
      "cell_type": "code",
      "source": [
        "sports_cars.head()"
      ],
      "metadata": {
        "id": "G6jmAUQJKG8D",
        "colab": {
          "base_uri": "https://localhost:8080/",
          "height": 206
        },
        "outputId": "c21d266e-c339-4fe8-b2b1-4c1b2b1c7728"
      },
      "execution_count": 9,
      "outputs": [
        {
          "output_type": "execute_result",
          "data": {
            "text/plain": [
              "      Car Make Car Model  Year Engine Size (L) Horsepower Torque (lb-ft)  \\\n",
              "0      Porsche       911  2022               3        379            331   \n",
              "1  Lamborghini   Huracan  2021             5.2        630            443   \n",
              "2      Ferrari   488 GTB  2022             3.9        661            561   \n",
              "3         Audi        R8  2022             5.2        562            406   \n",
              "4      McLaren      720S  2021               4        710            568   \n",
              "\n",
              "  0-60 MPH Time (seconds) Price (in USD)  \n",
              "0                       4        101,200  \n",
              "1                     2.8        274,390  \n",
              "2                       3        333,750  \n",
              "3                     3.2        142,700  \n",
              "4                     2.7        298,000  "
            ],
            "text/html": [
              "\n",
              "  <div id=\"df-92faed94-97f8-4cba-a268-be930b9ca01a\" class=\"colab-df-container\">\n",
              "    <div>\n",
              "<style scoped>\n",
              "    .dataframe tbody tr th:only-of-type {\n",
              "        vertical-align: middle;\n",
              "    }\n",
              "\n",
              "    .dataframe tbody tr th {\n",
              "        vertical-align: top;\n",
              "    }\n",
              "\n",
              "    .dataframe thead th {\n",
              "        text-align: right;\n",
              "    }\n",
              "</style>\n",
              "<table border=\"1\" class=\"dataframe\">\n",
              "  <thead>\n",
              "    <tr style=\"text-align: right;\">\n",
              "      <th></th>\n",
              "      <th>Car Make</th>\n",
              "      <th>Car Model</th>\n",
              "      <th>Year</th>\n",
              "      <th>Engine Size (L)</th>\n",
              "      <th>Horsepower</th>\n",
              "      <th>Torque (lb-ft)</th>\n",
              "      <th>0-60 MPH Time (seconds)</th>\n",
              "      <th>Price (in USD)</th>\n",
              "    </tr>\n",
              "  </thead>\n",
              "  <tbody>\n",
              "    <tr>\n",
              "      <th>0</th>\n",
              "      <td>Porsche</td>\n",
              "      <td>911</td>\n",
              "      <td>2022</td>\n",
              "      <td>3</td>\n",
              "      <td>379</td>\n",
              "      <td>331</td>\n",
              "      <td>4</td>\n",
              "      <td>101,200</td>\n",
              "    </tr>\n",
              "    <tr>\n",
              "      <th>1</th>\n",
              "      <td>Lamborghini</td>\n",
              "      <td>Huracan</td>\n",
              "      <td>2021</td>\n",
              "      <td>5.2</td>\n",
              "      <td>630</td>\n",
              "      <td>443</td>\n",
              "      <td>2.8</td>\n",
              "      <td>274,390</td>\n",
              "    </tr>\n",
              "    <tr>\n",
              "      <th>2</th>\n",
              "      <td>Ferrari</td>\n",
              "      <td>488 GTB</td>\n",
              "      <td>2022</td>\n",
              "      <td>3.9</td>\n",
              "      <td>661</td>\n",
              "      <td>561</td>\n",
              "      <td>3</td>\n",
              "      <td>333,750</td>\n",
              "    </tr>\n",
              "    <tr>\n",
              "      <th>3</th>\n",
              "      <td>Audi</td>\n",
              "      <td>R8</td>\n",
              "      <td>2022</td>\n",
              "      <td>5.2</td>\n",
              "      <td>562</td>\n",
              "      <td>406</td>\n",
              "      <td>3.2</td>\n",
              "      <td>142,700</td>\n",
              "    </tr>\n",
              "    <tr>\n",
              "      <th>4</th>\n",
              "      <td>McLaren</td>\n",
              "      <td>720S</td>\n",
              "      <td>2021</td>\n",
              "      <td>4</td>\n",
              "      <td>710</td>\n",
              "      <td>568</td>\n",
              "      <td>2.7</td>\n",
              "      <td>298,000</td>\n",
              "    </tr>\n",
              "  </tbody>\n",
              "</table>\n",
              "</div>\n",
              "    <div class=\"colab-df-buttons\">\n",
              "\n",
              "  <div class=\"colab-df-container\">\n",
              "    <button class=\"colab-df-convert\" onclick=\"convertToInteractive('df-92faed94-97f8-4cba-a268-be930b9ca01a')\"\n",
              "            title=\"Convert this dataframe to an interactive table.\"\n",
              "            style=\"display:none;\">\n",
              "\n",
              "  <svg xmlns=\"http://www.w3.org/2000/svg\" height=\"24px\" viewBox=\"0 -960 960 960\">\n",
              "    <path d=\"M120-120v-720h720v720H120Zm60-500h600v-160H180v160Zm220 220h160v-160H400v160Zm0 220h160v-160H400v160ZM180-400h160v-160H180v160Zm440 0h160v-160H620v160ZM180-180h160v-160H180v160Zm440 0h160v-160H620v160Z\"/>\n",
              "  </svg>\n",
              "    </button>\n",
              "\n",
              "  <style>\n",
              "    .colab-df-container {\n",
              "      display:flex;\n",
              "      gap: 12px;\n",
              "    }\n",
              "\n",
              "    .colab-df-convert {\n",
              "      background-color: #E8F0FE;\n",
              "      border: none;\n",
              "      border-radius: 50%;\n",
              "      cursor: pointer;\n",
              "      display: none;\n",
              "      fill: #1967D2;\n",
              "      height: 32px;\n",
              "      padding: 0 0 0 0;\n",
              "      width: 32px;\n",
              "    }\n",
              "\n",
              "    .colab-df-convert:hover {\n",
              "      background-color: #E2EBFA;\n",
              "      box-shadow: 0px 1px 2px rgba(60, 64, 67, 0.3), 0px 1px 3px 1px rgba(60, 64, 67, 0.15);\n",
              "      fill: #174EA6;\n",
              "    }\n",
              "\n",
              "    .colab-df-buttons div {\n",
              "      margin-bottom: 4px;\n",
              "    }\n",
              "\n",
              "    [theme=dark] .colab-df-convert {\n",
              "      background-color: #3B4455;\n",
              "      fill: #D2E3FC;\n",
              "    }\n",
              "\n",
              "    [theme=dark] .colab-df-convert:hover {\n",
              "      background-color: #434B5C;\n",
              "      box-shadow: 0px 1px 3px 1px rgba(0, 0, 0, 0.15);\n",
              "      filter: drop-shadow(0px 1px 2px rgba(0, 0, 0, 0.3));\n",
              "      fill: #FFFFFF;\n",
              "    }\n",
              "  </style>\n",
              "\n",
              "    <script>\n",
              "      const buttonEl =\n",
              "        document.querySelector('#df-92faed94-97f8-4cba-a268-be930b9ca01a button.colab-df-convert');\n",
              "      buttonEl.style.display =\n",
              "        google.colab.kernel.accessAllowed ? 'block' : 'none';\n",
              "\n",
              "      async function convertToInteractive(key) {\n",
              "        const element = document.querySelector('#df-92faed94-97f8-4cba-a268-be930b9ca01a');\n",
              "        const dataTable =\n",
              "          await google.colab.kernel.invokeFunction('convertToInteractive',\n",
              "                                                    [key], {});\n",
              "        if (!dataTable) return;\n",
              "\n",
              "        const docLinkHtml = 'Like what you see? Visit the ' +\n",
              "          '<a target=\"_blank\" href=https://colab.research.google.com/notebooks/data_table.ipynb>data table notebook</a>'\n",
              "          + ' to learn more about interactive tables.';\n",
              "        element.innerHTML = '';\n",
              "        dataTable['output_type'] = 'display_data';\n",
              "        await google.colab.output.renderOutput(dataTable, element);\n",
              "        const docLink = document.createElement('div');\n",
              "        docLink.innerHTML = docLinkHtml;\n",
              "        element.appendChild(docLink);\n",
              "      }\n",
              "    </script>\n",
              "  </div>\n",
              "\n",
              "\n",
              "<div id=\"df-2c8dc748-4fe2-479e-88b7-40af998a5cfa\">\n",
              "  <button class=\"colab-df-quickchart\" onclick=\"quickchart('df-2c8dc748-4fe2-479e-88b7-40af998a5cfa')\"\n",
              "            title=\"Suggest charts\"\n",
              "            style=\"display:none;\">\n",
              "\n",
              "<svg xmlns=\"http://www.w3.org/2000/svg\" height=\"24px\"viewBox=\"0 0 24 24\"\n",
              "     width=\"24px\">\n",
              "    <g>\n",
              "        <path d=\"M19 3H5c-1.1 0-2 .9-2 2v14c0 1.1.9 2 2 2h14c1.1 0 2-.9 2-2V5c0-1.1-.9-2-2-2zM9 17H7v-7h2v7zm4 0h-2V7h2v10zm4 0h-2v-4h2v4z\"/>\n",
              "    </g>\n",
              "</svg>\n",
              "  </button>\n",
              "\n",
              "<style>\n",
              "  .colab-df-quickchart {\n",
              "      --bg-color: #E8F0FE;\n",
              "      --fill-color: #1967D2;\n",
              "      --hover-bg-color: #E2EBFA;\n",
              "      --hover-fill-color: #174EA6;\n",
              "      --disabled-fill-color: #AAA;\n",
              "      --disabled-bg-color: #DDD;\n",
              "  }\n",
              "\n",
              "  [theme=dark] .colab-df-quickchart {\n",
              "      --bg-color: #3B4455;\n",
              "      --fill-color: #D2E3FC;\n",
              "      --hover-bg-color: #434B5C;\n",
              "      --hover-fill-color: #FFFFFF;\n",
              "      --disabled-bg-color: #3B4455;\n",
              "      --disabled-fill-color: #666;\n",
              "  }\n",
              "\n",
              "  .colab-df-quickchart {\n",
              "    background-color: var(--bg-color);\n",
              "    border: none;\n",
              "    border-radius: 50%;\n",
              "    cursor: pointer;\n",
              "    display: none;\n",
              "    fill: var(--fill-color);\n",
              "    height: 32px;\n",
              "    padding: 0;\n",
              "    width: 32px;\n",
              "  }\n",
              "\n",
              "  .colab-df-quickchart:hover {\n",
              "    background-color: var(--hover-bg-color);\n",
              "    box-shadow: 0 1px 2px rgba(60, 64, 67, 0.3), 0 1px 3px 1px rgba(60, 64, 67, 0.15);\n",
              "    fill: var(--button-hover-fill-color);\n",
              "  }\n",
              "\n",
              "  .colab-df-quickchart-complete:disabled,\n",
              "  .colab-df-quickchart-complete:disabled:hover {\n",
              "    background-color: var(--disabled-bg-color);\n",
              "    fill: var(--disabled-fill-color);\n",
              "    box-shadow: none;\n",
              "  }\n",
              "\n",
              "  .colab-df-spinner {\n",
              "    border: 2px solid var(--fill-color);\n",
              "    border-color: transparent;\n",
              "    border-bottom-color: var(--fill-color);\n",
              "    animation:\n",
              "      spin 1s steps(1) infinite;\n",
              "  }\n",
              "\n",
              "  @keyframes spin {\n",
              "    0% {\n",
              "      border-color: transparent;\n",
              "      border-bottom-color: var(--fill-color);\n",
              "      border-left-color: var(--fill-color);\n",
              "    }\n",
              "    20% {\n",
              "      border-color: transparent;\n",
              "      border-left-color: var(--fill-color);\n",
              "      border-top-color: var(--fill-color);\n",
              "    }\n",
              "    30% {\n",
              "      border-color: transparent;\n",
              "      border-left-color: var(--fill-color);\n",
              "      border-top-color: var(--fill-color);\n",
              "      border-right-color: var(--fill-color);\n",
              "    }\n",
              "    40% {\n",
              "      border-color: transparent;\n",
              "      border-right-color: var(--fill-color);\n",
              "      border-top-color: var(--fill-color);\n",
              "    }\n",
              "    60% {\n",
              "      border-color: transparent;\n",
              "      border-right-color: var(--fill-color);\n",
              "    }\n",
              "    80% {\n",
              "      border-color: transparent;\n",
              "      border-right-color: var(--fill-color);\n",
              "      border-bottom-color: var(--fill-color);\n",
              "    }\n",
              "    90% {\n",
              "      border-color: transparent;\n",
              "      border-bottom-color: var(--fill-color);\n",
              "    }\n",
              "  }\n",
              "</style>\n",
              "\n",
              "  <script>\n",
              "    async function quickchart(key) {\n",
              "      const quickchartButtonEl =\n",
              "        document.querySelector('#' + key + ' button');\n",
              "      quickchartButtonEl.disabled = true;  // To prevent multiple clicks.\n",
              "      quickchartButtonEl.classList.add('colab-df-spinner');\n",
              "      try {\n",
              "        const charts = await google.colab.kernel.invokeFunction(\n",
              "            'suggestCharts', [key], {});\n",
              "      } catch (error) {\n",
              "        console.error('Error during call to suggestCharts:', error);\n",
              "      }\n",
              "      quickchartButtonEl.classList.remove('colab-df-spinner');\n",
              "      quickchartButtonEl.classList.add('colab-df-quickchart-complete');\n",
              "    }\n",
              "    (() => {\n",
              "      let quickchartButtonEl =\n",
              "        document.querySelector('#df-2c8dc748-4fe2-479e-88b7-40af998a5cfa button');\n",
              "      quickchartButtonEl.style.display =\n",
              "        google.colab.kernel.accessAllowed ? 'block' : 'none';\n",
              "    })();\n",
              "  </script>\n",
              "</div>\n",
              "\n",
              "    </div>\n",
              "  </div>\n"
            ],
            "application/vnd.google.colaboratory.intrinsic+json": {
              "type": "dataframe",
              "variable_name": "sports_cars",
              "summary": "{\n  \"name\": \"sports_cars\",\n  \"rows\": 1007,\n  \"fields\": [\n    {\n      \"column\": \"Car Make\",\n      \"properties\": {\n        \"dtype\": \"category\",\n        \"num_unique_values\": 38,\n        \"samples\": [\n          \"Subaru\",\n          \"Alpine\",\n          \"McLaren\"\n        ],\n        \"semantic_type\": \"\",\n        \"description\": \"\"\n      }\n    },\n    {\n      \"column\": \"Car Model\",\n      \"properties\": {\n        \"dtype\": \"category\",\n        \"num_unique_values\": 176,\n        \"samples\": [\n          \"Giulia Quadrifoglio\",\n          \"Mustang GT\",\n          \"Senna\"\n        ],\n        \"semantic_type\": \"\",\n        \"description\": \"\"\n      }\n    },\n    {\n      \"column\": \"Year\",\n      \"properties\": {\n        \"dtype\": \"number\",\n        \"std\": 2,\n        \"min\": 1965,\n        \"max\": 2023,\n        \"num_unique_values\": 9,\n        \"samples\": [\n          2014,\n          2021,\n          2017\n        ],\n        \"semantic_type\": \"\",\n        \"description\": \"\"\n      }\n    },\n    {\n      \"column\": \"Engine Size (L)\",\n      \"properties\": {\n        \"dtype\": \"category\",\n        \"num_unique_values\": 45,\n        \"samples\": [\n          \"2.0 (Electric)\",\n          \"3.3\",\n          \"-\"\n        ],\n        \"semantic_type\": \"\",\n        \"description\": \"\"\n      }\n    },\n    {\n      \"column\": \"Horsepower\",\n      \"properties\": {\n        \"dtype\": \"category\",\n        \"num_unique_values\": 124,\n        \"samples\": [\n          \"505\",\n          \"349\",\n          \"612\"\n        ],\n        \"semantic_type\": \"\",\n        \"description\": \"\"\n      }\n    },\n    {\n      \"column\": \"Torque (lb-ft)\",\n      \"properties\": {\n        \"dtype\": \"category\",\n        \"num_unique_values\": 93,\n        \"samples\": [\n          \"707\",\n          \"468\",\n          \"600\"\n        ],\n        \"semantic_type\": \"\",\n        \"description\": \"\"\n      }\n    },\n    {\n      \"column\": \"0-60 MPH Time (seconds)\",\n      \"properties\": {\n        \"dtype\": \"category\",\n        \"num_unique_values\": 43,\n        \"samples\": [\n          \"1.8\",\n          \"2.9\",\n          \"5\"\n        ],\n        \"semantic_type\": \"\",\n        \"description\": \"\"\n      }\n    },\n    {\n      \"column\": \"Price (in USD)\",\n      \"properties\": {\n        \"dtype\": \"category\",\n        \"num_unique_values\": 367,\n        \"samples\": [\n          \"30,000\",\n          \"45,690\",\n          \"92,950\"\n        ],\n        \"semantic_type\": \"\",\n        \"description\": \"\"\n      }\n    }\n  ]\n}"
            }
          },
          "metadata": {},
          "execution_count": 9
        }
      ]
    },
    {
      "cell_type": "code",
      "source": [
        "sports_cars.shape"
      ],
      "metadata": {
        "id": "0URhmXepKduT",
        "colab": {
          "base_uri": "https://localhost:8080/"
        },
        "outputId": "d51593e7-bde6-404e-bd37-cee24f7078ca"
      },
      "execution_count": 10,
      "outputs": [
        {
          "output_type": "execute_result",
          "data": {
            "text/plain": [
              "(1007, 8)"
            ]
          },
          "metadata": {},
          "execution_count": 10
        }
      ]
    },
    {
      "cell_type": "code",
      "source": [
        "sports_cars.info()"
      ],
      "metadata": {
        "id": "5MV4bzt9Kw2a",
        "colab": {
          "base_uri": "https://localhost:8080/"
        },
        "outputId": "67117150-2edb-4ffe-82d6-1b4156e1e74a"
      },
      "execution_count": 11,
      "outputs": [
        {
          "output_type": "stream",
          "name": "stdout",
          "text": [
            "<class 'pandas.core.frame.DataFrame'>\n",
            "RangeIndex: 1007 entries, 0 to 1006\n",
            "Data columns (total 8 columns):\n",
            " #   Column                   Non-Null Count  Dtype \n",
            "---  ------                   --------------  ----- \n",
            " 0   Car Make                 1007 non-null   object\n",
            " 1   Car Model                1007 non-null   object\n",
            " 2   Year                     1007 non-null   int64 \n",
            " 3   Engine Size (L)          997 non-null    object\n",
            " 4   Horsepower               1007 non-null   object\n",
            " 5   Torque (lb-ft)           1004 non-null   object\n",
            " 6   0-60 MPH Time (seconds)  1007 non-null   object\n",
            " 7   Price (in USD)           1007 non-null   object\n",
            "dtypes: int64(1), object(7)\n",
            "memory usage: 63.1+ KB\n"
          ]
        }
      ]
    },
    {
      "cell_type": "code",
      "source": [
        "# Remove the comma and convert to numeric\n",
        "sports_cars['Price (in USD)'] = sports_cars['Price (in USD)'].apply(lambda x : x.replace(',', ''))\n",
        "sports_cars.head()"
      ],
      "metadata": {
        "colab": {
          "base_uri": "https://localhost:8080/",
          "height": 206
        },
        "id": "gJM03o33Kzs-",
        "outputId": "91e036c0-50fa-4a69-fce2-6ce9f4b0115b"
      },
      "execution_count": 12,
      "outputs": [
        {
          "output_type": "execute_result",
          "data": {
            "text/plain": [
              "      Car Make Car Model  Year Engine Size (L) Horsepower Torque (lb-ft)  \\\n",
              "0      Porsche       911  2022               3        379            331   \n",
              "1  Lamborghini   Huracan  2021             5.2        630            443   \n",
              "2      Ferrari   488 GTB  2022             3.9        661            561   \n",
              "3         Audi        R8  2022             5.2        562            406   \n",
              "4      McLaren      720S  2021               4        710            568   \n",
              "\n",
              "  0-60 MPH Time (seconds) Price (in USD)  \n",
              "0                       4         101200  \n",
              "1                     2.8         274390  \n",
              "2                       3         333750  \n",
              "3                     3.2         142700  \n",
              "4                     2.7         298000  "
            ],
            "text/html": [
              "\n",
              "  <div id=\"df-3ad4df30-5b5e-47ac-a68b-8dda47f5979d\" class=\"colab-df-container\">\n",
              "    <div>\n",
              "<style scoped>\n",
              "    .dataframe tbody tr th:only-of-type {\n",
              "        vertical-align: middle;\n",
              "    }\n",
              "\n",
              "    .dataframe tbody tr th {\n",
              "        vertical-align: top;\n",
              "    }\n",
              "\n",
              "    .dataframe thead th {\n",
              "        text-align: right;\n",
              "    }\n",
              "</style>\n",
              "<table border=\"1\" class=\"dataframe\">\n",
              "  <thead>\n",
              "    <tr style=\"text-align: right;\">\n",
              "      <th></th>\n",
              "      <th>Car Make</th>\n",
              "      <th>Car Model</th>\n",
              "      <th>Year</th>\n",
              "      <th>Engine Size (L)</th>\n",
              "      <th>Horsepower</th>\n",
              "      <th>Torque (lb-ft)</th>\n",
              "      <th>0-60 MPH Time (seconds)</th>\n",
              "      <th>Price (in USD)</th>\n",
              "    </tr>\n",
              "  </thead>\n",
              "  <tbody>\n",
              "    <tr>\n",
              "      <th>0</th>\n",
              "      <td>Porsche</td>\n",
              "      <td>911</td>\n",
              "      <td>2022</td>\n",
              "      <td>3</td>\n",
              "      <td>379</td>\n",
              "      <td>331</td>\n",
              "      <td>4</td>\n",
              "      <td>101200</td>\n",
              "    </tr>\n",
              "    <tr>\n",
              "      <th>1</th>\n",
              "      <td>Lamborghini</td>\n",
              "      <td>Huracan</td>\n",
              "      <td>2021</td>\n",
              "      <td>5.2</td>\n",
              "      <td>630</td>\n",
              "      <td>443</td>\n",
              "      <td>2.8</td>\n",
              "      <td>274390</td>\n",
              "    </tr>\n",
              "    <tr>\n",
              "      <th>2</th>\n",
              "      <td>Ferrari</td>\n",
              "      <td>488 GTB</td>\n",
              "      <td>2022</td>\n",
              "      <td>3.9</td>\n",
              "      <td>661</td>\n",
              "      <td>561</td>\n",
              "      <td>3</td>\n",
              "      <td>333750</td>\n",
              "    </tr>\n",
              "    <tr>\n",
              "      <th>3</th>\n",
              "      <td>Audi</td>\n",
              "      <td>R8</td>\n",
              "      <td>2022</td>\n",
              "      <td>5.2</td>\n",
              "      <td>562</td>\n",
              "      <td>406</td>\n",
              "      <td>3.2</td>\n",
              "      <td>142700</td>\n",
              "    </tr>\n",
              "    <tr>\n",
              "      <th>4</th>\n",
              "      <td>McLaren</td>\n",
              "      <td>720S</td>\n",
              "      <td>2021</td>\n",
              "      <td>4</td>\n",
              "      <td>710</td>\n",
              "      <td>568</td>\n",
              "      <td>2.7</td>\n",
              "      <td>298000</td>\n",
              "    </tr>\n",
              "  </tbody>\n",
              "</table>\n",
              "</div>\n",
              "    <div class=\"colab-df-buttons\">\n",
              "\n",
              "  <div class=\"colab-df-container\">\n",
              "    <button class=\"colab-df-convert\" onclick=\"convertToInteractive('df-3ad4df30-5b5e-47ac-a68b-8dda47f5979d')\"\n",
              "            title=\"Convert this dataframe to an interactive table.\"\n",
              "            style=\"display:none;\">\n",
              "\n",
              "  <svg xmlns=\"http://www.w3.org/2000/svg\" height=\"24px\" viewBox=\"0 -960 960 960\">\n",
              "    <path d=\"M120-120v-720h720v720H120Zm60-500h600v-160H180v160Zm220 220h160v-160H400v160Zm0 220h160v-160H400v160ZM180-400h160v-160H180v160Zm440 0h160v-160H620v160ZM180-180h160v-160H180v160Zm440 0h160v-160H620v160Z\"/>\n",
              "  </svg>\n",
              "    </button>\n",
              "\n",
              "  <style>\n",
              "    .colab-df-container {\n",
              "      display:flex;\n",
              "      gap: 12px;\n",
              "    }\n",
              "\n",
              "    .colab-df-convert {\n",
              "      background-color: #E8F0FE;\n",
              "      border: none;\n",
              "      border-radius: 50%;\n",
              "      cursor: pointer;\n",
              "      display: none;\n",
              "      fill: #1967D2;\n",
              "      height: 32px;\n",
              "      padding: 0 0 0 0;\n",
              "      width: 32px;\n",
              "    }\n",
              "\n",
              "    .colab-df-convert:hover {\n",
              "      background-color: #E2EBFA;\n",
              "      box-shadow: 0px 1px 2px rgba(60, 64, 67, 0.3), 0px 1px 3px 1px rgba(60, 64, 67, 0.15);\n",
              "      fill: #174EA6;\n",
              "    }\n",
              "\n",
              "    .colab-df-buttons div {\n",
              "      margin-bottom: 4px;\n",
              "    }\n",
              "\n",
              "    [theme=dark] .colab-df-convert {\n",
              "      background-color: #3B4455;\n",
              "      fill: #D2E3FC;\n",
              "    }\n",
              "\n",
              "    [theme=dark] .colab-df-convert:hover {\n",
              "      background-color: #434B5C;\n",
              "      box-shadow: 0px 1px 3px 1px rgba(0, 0, 0, 0.15);\n",
              "      filter: drop-shadow(0px 1px 2px rgba(0, 0, 0, 0.3));\n",
              "      fill: #FFFFFF;\n",
              "    }\n",
              "  </style>\n",
              "\n",
              "    <script>\n",
              "      const buttonEl =\n",
              "        document.querySelector('#df-3ad4df30-5b5e-47ac-a68b-8dda47f5979d button.colab-df-convert');\n",
              "      buttonEl.style.display =\n",
              "        google.colab.kernel.accessAllowed ? 'block' : 'none';\n",
              "\n",
              "      async function convertToInteractive(key) {\n",
              "        const element = document.querySelector('#df-3ad4df30-5b5e-47ac-a68b-8dda47f5979d');\n",
              "        const dataTable =\n",
              "          await google.colab.kernel.invokeFunction('convertToInteractive',\n",
              "                                                    [key], {});\n",
              "        if (!dataTable) return;\n",
              "\n",
              "        const docLinkHtml = 'Like what you see? Visit the ' +\n",
              "          '<a target=\"_blank\" href=https://colab.research.google.com/notebooks/data_table.ipynb>data table notebook</a>'\n",
              "          + ' to learn more about interactive tables.';\n",
              "        element.innerHTML = '';\n",
              "        dataTable['output_type'] = 'display_data';\n",
              "        await google.colab.output.renderOutput(dataTable, element);\n",
              "        const docLink = document.createElement('div');\n",
              "        docLink.innerHTML = docLinkHtml;\n",
              "        element.appendChild(docLink);\n",
              "      }\n",
              "    </script>\n",
              "  </div>\n",
              "\n",
              "\n",
              "<div id=\"df-d88b1838-72d2-45da-ad2f-1091fb9852ff\">\n",
              "  <button class=\"colab-df-quickchart\" onclick=\"quickchart('df-d88b1838-72d2-45da-ad2f-1091fb9852ff')\"\n",
              "            title=\"Suggest charts\"\n",
              "            style=\"display:none;\">\n",
              "\n",
              "<svg xmlns=\"http://www.w3.org/2000/svg\" height=\"24px\"viewBox=\"0 0 24 24\"\n",
              "     width=\"24px\">\n",
              "    <g>\n",
              "        <path d=\"M19 3H5c-1.1 0-2 .9-2 2v14c0 1.1.9 2 2 2h14c1.1 0 2-.9 2-2V5c0-1.1-.9-2-2-2zM9 17H7v-7h2v7zm4 0h-2V7h2v10zm4 0h-2v-4h2v4z\"/>\n",
              "    </g>\n",
              "</svg>\n",
              "  </button>\n",
              "\n",
              "<style>\n",
              "  .colab-df-quickchart {\n",
              "      --bg-color: #E8F0FE;\n",
              "      --fill-color: #1967D2;\n",
              "      --hover-bg-color: #E2EBFA;\n",
              "      --hover-fill-color: #174EA6;\n",
              "      --disabled-fill-color: #AAA;\n",
              "      --disabled-bg-color: #DDD;\n",
              "  }\n",
              "\n",
              "  [theme=dark] .colab-df-quickchart {\n",
              "      --bg-color: #3B4455;\n",
              "      --fill-color: #D2E3FC;\n",
              "      --hover-bg-color: #434B5C;\n",
              "      --hover-fill-color: #FFFFFF;\n",
              "      --disabled-bg-color: #3B4455;\n",
              "      --disabled-fill-color: #666;\n",
              "  }\n",
              "\n",
              "  .colab-df-quickchart {\n",
              "    background-color: var(--bg-color);\n",
              "    border: none;\n",
              "    border-radius: 50%;\n",
              "    cursor: pointer;\n",
              "    display: none;\n",
              "    fill: var(--fill-color);\n",
              "    height: 32px;\n",
              "    padding: 0;\n",
              "    width: 32px;\n",
              "  }\n",
              "\n",
              "  .colab-df-quickchart:hover {\n",
              "    background-color: var(--hover-bg-color);\n",
              "    box-shadow: 0 1px 2px rgba(60, 64, 67, 0.3), 0 1px 3px 1px rgba(60, 64, 67, 0.15);\n",
              "    fill: var(--button-hover-fill-color);\n",
              "  }\n",
              "\n",
              "  .colab-df-quickchart-complete:disabled,\n",
              "  .colab-df-quickchart-complete:disabled:hover {\n",
              "    background-color: var(--disabled-bg-color);\n",
              "    fill: var(--disabled-fill-color);\n",
              "    box-shadow: none;\n",
              "  }\n",
              "\n",
              "  .colab-df-spinner {\n",
              "    border: 2px solid var(--fill-color);\n",
              "    border-color: transparent;\n",
              "    border-bottom-color: var(--fill-color);\n",
              "    animation:\n",
              "      spin 1s steps(1) infinite;\n",
              "  }\n",
              "\n",
              "  @keyframes spin {\n",
              "    0% {\n",
              "      border-color: transparent;\n",
              "      border-bottom-color: var(--fill-color);\n",
              "      border-left-color: var(--fill-color);\n",
              "    }\n",
              "    20% {\n",
              "      border-color: transparent;\n",
              "      border-left-color: var(--fill-color);\n",
              "      border-top-color: var(--fill-color);\n",
              "    }\n",
              "    30% {\n",
              "      border-color: transparent;\n",
              "      border-left-color: var(--fill-color);\n",
              "      border-top-color: var(--fill-color);\n",
              "      border-right-color: var(--fill-color);\n",
              "    }\n",
              "    40% {\n",
              "      border-color: transparent;\n",
              "      border-right-color: var(--fill-color);\n",
              "      border-top-color: var(--fill-color);\n",
              "    }\n",
              "    60% {\n",
              "      border-color: transparent;\n",
              "      border-right-color: var(--fill-color);\n",
              "    }\n",
              "    80% {\n",
              "      border-color: transparent;\n",
              "      border-right-color: var(--fill-color);\n",
              "      border-bottom-color: var(--fill-color);\n",
              "    }\n",
              "    90% {\n",
              "      border-color: transparent;\n",
              "      border-bottom-color: var(--fill-color);\n",
              "    }\n",
              "  }\n",
              "</style>\n",
              "\n",
              "  <script>\n",
              "    async function quickchart(key) {\n",
              "      const quickchartButtonEl =\n",
              "        document.querySelector('#' + key + ' button');\n",
              "      quickchartButtonEl.disabled = true;  // To prevent multiple clicks.\n",
              "      quickchartButtonEl.classList.add('colab-df-spinner');\n",
              "      try {\n",
              "        const charts = await google.colab.kernel.invokeFunction(\n",
              "            'suggestCharts', [key], {});\n",
              "      } catch (error) {\n",
              "        console.error('Error during call to suggestCharts:', error);\n",
              "      }\n",
              "      quickchartButtonEl.classList.remove('colab-df-spinner');\n",
              "      quickchartButtonEl.classList.add('colab-df-quickchart-complete');\n",
              "    }\n",
              "    (() => {\n",
              "      let quickchartButtonEl =\n",
              "        document.querySelector('#df-d88b1838-72d2-45da-ad2f-1091fb9852ff button');\n",
              "      quickchartButtonEl.style.display =\n",
              "        google.colab.kernel.accessAllowed ? 'block' : 'none';\n",
              "    })();\n",
              "  </script>\n",
              "</div>\n",
              "\n",
              "    </div>\n",
              "  </div>\n"
            ],
            "application/vnd.google.colaboratory.intrinsic+json": {
              "type": "dataframe",
              "variable_name": "sports_cars",
              "summary": "{\n  \"name\": \"sports_cars\",\n  \"rows\": 1007,\n  \"fields\": [\n    {\n      \"column\": \"Car Make\",\n      \"properties\": {\n        \"dtype\": \"category\",\n        \"num_unique_values\": 38,\n        \"samples\": [\n          \"Subaru\",\n          \"Alpine\",\n          \"McLaren\"\n        ],\n        \"semantic_type\": \"\",\n        \"description\": \"\"\n      }\n    },\n    {\n      \"column\": \"Car Model\",\n      \"properties\": {\n        \"dtype\": \"category\",\n        \"num_unique_values\": 176,\n        \"samples\": [\n          \"Giulia Quadrifoglio\",\n          \"Mustang GT\",\n          \"Senna\"\n        ],\n        \"semantic_type\": \"\",\n        \"description\": \"\"\n      }\n    },\n    {\n      \"column\": \"Year\",\n      \"properties\": {\n        \"dtype\": \"number\",\n        \"std\": 2,\n        \"min\": 1965,\n        \"max\": 2023,\n        \"num_unique_values\": 9,\n        \"samples\": [\n          2014,\n          2021,\n          2017\n        ],\n        \"semantic_type\": \"\",\n        \"description\": \"\"\n      }\n    },\n    {\n      \"column\": \"Engine Size (L)\",\n      \"properties\": {\n        \"dtype\": \"category\",\n        \"num_unique_values\": 45,\n        \"samples\": [\n          \"2.0 (Electric)\",\n          \"3.3\",\n          \"-\"\n        ],\n        \"semantic_type\": \"\",\n        \"description\": \"\"\n      }\n    },\n    {\n      \"column\": \"Horsepower\",\n      \"properties\": {\n        \"dtype\": \"category\",\n        \"num_unique_values\": 124,\n        \"samples\": [\n          \"505\",\n          \"349\",\n          \"612\"\n        ],\n        \"semantic_type\": \"\",\n        \"description\": \"\"\n      }\n    },\n    {\n      \"column\": \"Torque (lb-ft)\",\n      \"properties\": {\n        \"dtype\": \"category\",\n        \"num_unique_values\": 93,\n        \"samples\": [\n          \"707\",\n          \"468\",\n          \"600\"\n        ],\n        \"semantic_type\": \"\",\n        \"description\": \"\"\n      }\n    },\n    {\n      \"column\": \"0-60 MPH Time (seconds)\",\n      \"properties\": {\n        \"dtype\": \"category\",\n        \"num_unique_values\": 43,\n        \"samples\": [\n          \"1.8\",\n          \"2.9\",\n          \"5\"\n        ],\n        \"semantic_type\": \"\",\n        \"description\": \"\"\n      }\n    },\n    {\n      \"column\": \"Price (in USD)\",\n      \"properties\": {\n        \"dtype\": \"category\",\n        \"num_unique_values\": 367,\n        \"samples\": [\n          \"30000\",\n          \"45690\",\n          \"92950\"\n        ],\n        \"semantic_type\": \"\",\n        \"description\": \"\"\n      }\n    }\n  ]\n}"
            }
          },
          "metadata": {},
          "execution_count": 12
        }
      ]
    },
    {
      "cell_type": "code",
      "source": [
        "sports_cars['Engine Size (L)'].unique()"
      ],
      "metadata": {
        "id": "ZRZwPkElLIeU",
        "colab": {
          "base_uri": "https://localhost:8080/"
        },
        "outputId": "01ffff66-a87e-4566-8015-7238a63ef7f9"
      },
      "execution_count": 13,
      "outputs": [
        {
          "output_type": "execute_result",
          "data": {
            "text/plain": [
              "array(['3', '5.2', '3.9', '4', '4.4', '6.2', '3.8', '8', '5', '3.5',\n",
              "       '4.7', '2', '2.9', '6', 'Electric', '6.5', '3.7', 'Electric Motor',\n",
              "       '2.5', '1.5 + Electric', '6.8', '8.4', nan, '6.6', '7', '1.7',\n",
              "       '3.3', '-', '6.7', '1.8', 'Electric (tri-motor)', '5.5',\n",
              "       'Electric (93 kWh)', 'Electric (100 kWh)', 'Hybrid (4.0)', '4.6',\n",
              "       '3.6', '1.5', 'Hybrid', '5.7', '2.0 (Electric)', '4.0 (Hybrid)',\n",
              "       '0', '6.4', '6.3', '2.3'], dtype=object)"
            ]
          },
          "metadata": {},
          "execution_count": 13
        }
      ]
    },
    {
      "cell_type": "code",
      "source": [
        "def apply_lambda(col, l):\n",
        "    sports_cars[col] = sports_cars[col].apply(l)"
      ],
      "metadata": {
        "id": "eh0a-UGDLdX7"
      },
      "execution_count": 14,
      "outputs": []
    },
    {
      "cell_type": "code",
      "source": [
        "# Remove redundant signs in values (+, >, -)\n",
        "def replace_string(col,str1,str2):\n",
        "    sports_cars[col] = sports_cars[col].apply(lambda x : str(x).replace(str1,'').replace(str2,''))"
      ],
      "metadata": {
        "id": "HdGO8yfgLkAF"
      },
      "execution_count": 15,
      "outputs": []
    },
    {
      "cell_type": "code",
      "source": [
        "sports_cars['Electric'] = sports_cars['Engine Size (L)'].copy()\n",
        "apply_lambda('Electric', lambda x : 'No' if 'Electric' not in str(x) else 'Yes')\n",
        "sports_cars['Electric'].unique()"
      ],
      "metadata": {
        "id": "OnUr5lT2MZiQ",
        "colab": {
          "base_uri": "https://localhost:8080/"
        },
        "outputId": "ec6796a9-b2ff-4484-d00c-082d00fa11f3"
      },
      "execution_count": 16,
      "outputs": [
        {
          "output_type": "execute_result",
          "data": {
            "text/plain": [
              "array(['No', 'Yes'], dtype=object)"
            ]
          },
          "metadata": {},
          "execution_count": 16
        }
      ]
    },
    {
      "cell_type": "code",
      "source": [
        "# Whether the car is hybrid\n",
        "sports_cars['Hybrid'] = sports_cars['Engine Size (L)'].copy()\n",
        "apply_lambda('Hybrid', lambda x : 'No' if 'Hybrid' not in str(x) else 'Yes')\n",
        "sports_cars['Hybrid'].unique()"
      ],
      "metadata": {
        "id": "YJJyoLRDMi6x",
        "colab": {
          "base_uri": "https://localhost:8080/"
        },
        "outputId": "0e4fb0ca-7a9b-4ed3-ea49-25d35cf90c39"
      },
      "execution_count": 17,
      "outputs": [
        {
          "output_type": "execute_result",
          "data": {
            "text/plain": [
              "array(['No', 'Yes'], dtype=object)"
            ]
          },
          "metadata": {},
          "execution_count": 17
        }
      ]
    },
    {
      "cell_type": "code",
      "source": [
        "# Remove the electric and hybrid values from Engine size\n",
        "apply_lambda('Engine Size (L)', lambda x : x if len(str(x)) == 1 else re.search('\\d{1}\\.\\d{1}', str(x)))\n",
        "apply_lambda('Engine Size (L)', lambda x : x.group() if type(x) == re.Match else x)\n",
        "replace_string('Engine Size (L)','-','')\n",
        "sports_cars['Engine Size (L)'].unique()"
      ],
      "metadata": {
        "id": "lBZbP74uNzRt",
        "colab": {
          "base_uri": "https://localhost:8080/"
        },
        "outputId": "993b120c-8869-4881-9f20-94c0cc50101f"
      },
      "execution_count": 18,
      "outputs": [
        {
          "output_type": "execute_result",
          "data": {
            "text/plain": [
              "array(['3', '5.2', '3.9', '4', '4.4', '6.2', '3.8', '8', '5', '3.5',\n",
              "       '4.7', '2', '2.9', '6', 'None', '6.5', '3.7', '2.5', '1.5', '6.8',\n",
              "       '8.4', '6.6', '7', '1.7', '3.3', '', '6.7', '1.8', '5.5', '4.0',\n",
              "       '4.6', '3.6', '5.7', '2.0', '0', '6.4', '6.3', '2.3'], dtype=object)"
            ]
          },
          "metadata": {},
          "execution_count": 18
        }
      ]
    },
    {
      "cell_type": "code",
      "source": [
        "replace_string('Horsepower',',','+')"
      ],
      "metadata": {
        "id": "0DCUKG3WQAs6"
      },
      "execution_count": 19,
      "outputs": []
    },
    {
      "cell_type": "code",
      "source": [
        "replace_string('Torque (lb-ft)','-','+')\n",
        "replace_string('Torque (lb-ft)',',','')"
      ],
      "metadata": {
        "id": "aNL4PG0aQDm2"
      },
      "execution_count": 20,
      "outputs": []
    },
    {
      "cell_type": "code",
      "source": [
        "replace_string('0-60 MPH Time (seconds)','<','+')\n",
        "sports_cars['0-60 MPH Time (seconds)'].unique()"
      ],
      "metadata": {
        "id": "jFb67XlUZFr-",
        "colab": {
          "base_uri": "https://localhost:8080/"
        },
        "outputId": "ad640f1a-4bc2-466a-b1ab-f321c39264be"
      },
      "execution_count": 21,
      "outputs": [
        {
          "output_type": "execute_result",
          "data": {
            "text/plain": [
              "array(['4', '2.8', '3', '3.2', '2.7', '3.1', '3.8', '3.5', '2.5', '2.4',\n",
              "       '5.4', '4.4', '4.8', '4.7', '3.6', '4.1', '1.85', '4.5', '3.3',\n",
              "       '3.9', '4.2', '3.4', '5.1', '4.3', '2.9', '5', '5.3', '4.9', '6.5',\n",
              "       '3.7', '1.95', '1.9', '1.98', '2.6', '2.3', '4.6', ' 1.9', '1.8',\n",
              "       '2.1', '5.2', '2.2', '6.4', '2'], dtype=object)"
            ]
          },
          "metadata": {},
          "execution_count": 21
        }
      ]
    },
    {
      "cell_type": "code",
      "source": [
        "sports_cars.iloc[:,3:8] = sports_cars.iloc[:,3:8].apply(pd.to_numeric, errors = 'coerce')\n",
        "sports_cars.head()"
      ],
      "metadata": {
        "id": "fNihbrDwQIA4",
        "colab": {
          "base_uri": "https://localhost:8080/",
          "height": 206
        },
        "outputId": "55ac779c-de2f-498d-a739-60dd29b9b213"
      },
      "execution_count": 22,
      "outputs": [
        {
          "output_type": "execute_result",
          "data": {
            "text/plain": [
              "      Car Make Car Model  Year Engine Size (L) Horsepower Torque (lb-ft)  \\\n",
              "0      Porsche       911  2022            3.00        379         331.00   \n",
              "1  Lamborghini   Huracan  2021            5.20        630         443.00   \n",
              "2      Ferrari   488 GTB  2022            3.90        661         561.00   \n",
              "3         Audi        R8  2022            5.20        562         406.00   \n",
              "4      McLaren      720S  2021            4.00        710         568.00   \n",
              "\n",
              "  0-60 MPH Time (seconds) Price (in USD) Electric Hybrid  \n",
              "0                    4.00         101200       No     No  \n",
              "1                    2.80         274390       No     No  \n",
              "2                    3.00         333750       No     No  \n",
              "3                    3.20         142700       No     No  \n",
              "4                    2.70         298000       No     No  "
            ],
            "text/html": [
              "\n",
              "  <div id=\"df-34cab242-9449-4c54-8a43-66f3d17ef16a\" class=\"colab-df-container\">\n",
              "    <div>\n",
              "<style scoped>\n",
              "    .dataframe tbody tr th:only-of-type {\n",
              "        vertical-align: middle;\n",
              "    }\n",
              "\n",
              "    .dataframe tbody tr th {\n",
              "        vertical-align: top;\n",
              "    }\n",
              "\n",
              "    .dataframe thead th {\n",
              "        text-align: right;\n",
              "    }\n",
              "</style>\n",
              "<table border=\"1\" class=\"dataframe\">\n",
              "  <thead>\n",
              "    <tr style=\"text-align: right;\">\n",
              "      <th></th>\n",
              "      <th>Car Make</th>\n",
              "      <th>Car Model</th>\n",
              "      <th>Year</th>\n",
              "      <th>Engine Size (L)</th>\n",
              "      <th>Horsepower</th>\n",
              "      <th>Torque (lb-ft)</th>\n",
              "      <th>0-60 MPH Time (seconds)</th>\n",
              "      <th>Price (in USD)</th>\n",
              "      <th>Electric</th>\n",
              "      <th>Hybrid</th>\n",
              "    </tr>\n",
              "  </thead>\n",
              "  <tbody>\n",
              "    <tr>\n",
              "      <th>0</th>\n",
              "      <td>Porsche</td>\n",
              "      <td>911</td>\n",
              "      <td>2022</td>\n",
              "      <td>3.00</td>\n",
              "      <td>379</td>\n",
              "      <td>331.00</td>\n",
              "      <td>4.00</td>\n",
              "      <td>101200</td>\n",
              "      <td>No</td>\n",
              "      <td>No</td>\n",
              "    </tr>\n",
              "    <tr>\n",
              "      <th>1</th>\n",
              "      <td>Lamborghini</td>\n",
              "      <td>Huracan</td>\n",
              "      <td>2021</td>\n",
              "      <td>5.20</td>\n",
              "      <td>630</td>\n",
              "      <td>443.00</td>\n",
              "      <td>2.80</td>\n",
              "      <td>274390</td>\n",
              "      <td>No</td>\n",
              "      <td>No</td>\n",
              "    </tr>\n",
              "    <tr>\n",
              "      <th>2</th>\n",
              "      <td>Ferrari</td>\n",
              "      <td>488 GTB</td>\n",
              "      <td>2022</td>\n",
              "      <td>3.90</td>\n",
              "      <td>661</td>\n",
              "      <td>561.00</td>\n",
              "      <td>3.00</td>\n",
              "      <td>333750</td>\n",
              "      <td>No</td>\n",
              "      <td>No</td>\n",
              "    </tr>\n",
              "    <tr>\n",
              "      <th>3</th>\n",
              "      <td>Audi</td>\n",
              "      <td>R8</td>\n",
              "      <td>2022</td>\n",
              "      <td>5.20</td>\n",
              "      <td>562</td>\n",
              "      <td>406.00</td>\n",
              "      <td>3.20</td>\n",
              "      <td>142700</td>\n",
              "      <td>No</td>\n",
              "      <td>No</td>\n",
              "    </tr>\n",
              "    <tr>\n",
              "      <th>4</th>\n",
              "      <td>McLaren</td>\n",
              "      <td>720S</td>\n",
              "      <td>2021</td>\n",
              "      <td>4.00</td>\n",
              "      <td>710</td>\n",
              "      <td>568.00</td>\n",
              "      <td>2.70</td>\n",
              "      <td>298000</td>\n",
              "      <td>No</td>\n",
              "      <td>No</td>\n",
              "    </tr>\n",
              "  </tbody>\n",
              "</table>\n",
              "</div>\n",
              "    <div class=\"colab-df-buttons\">\n",
              "\n",
              "  <div class=\"colab-df-container\">\n",
              "    <button class=\"colab-df-convert\" onclick=\"convertToInteractive('df-34cab242-9449-4c54-8a43-66f3d17ef16a')\"\n",
              "            title=\"Convert this dataframe to an interactive table.\"\n",
              "            style=\"display:none;\">\n",
              "\n",
              "  <svg xmlns=\"http://www.w3.org/2000/svg\" height=\"24px\" viewBox=\"0 -960 960 960\">\n",
              "    <path d=\"M120-120v-720h720v720H120Zm60-500h600v-160H180v160Zm220 220h160v-160H400v160Zm0 220h160v-160H400v160ZM180-400h160v-160H180v160Zm440 0h160v-160H620v160ZM180-180h160v-160H180v160Zm440 0h160v-160H620v160Z\"/>\n",
              "  </svg>\n",
              "    </button>\n",
              "\n",
              "  <style>\n",
              "    .colab-df-container {\n",
              "      display:flex;\n",
              "      gap: 12px;\n",
              "    }\n",
              "\n",
              "    .colab-df-convert {\n",
              "      background-color: #E8F0FE;\n",
              "      border: none;\n",
              "      border-radius: 50%;\n",
              "      cursor: pointer;\n",
              "      display: none;\n",
              "      fill: #1967D2;\n",
              "      height: 32px;\n",
              "      padding: 0 0 0 0;\n",
              "      width: 32px;\n",
              "    }\n",
              "\n",
              "    .colab-df-convert:hover {\n",
              "      background-color: #E2EBFA;\n",
              "      box-shadow: 0px 1px 2px rgba(60, 64, 67, 0.3), 0px 1px 3px 1px rgba(60, 64, 67, 0.15);\n",
              "      fill: #174EA6;\n",
              "    }\n",
              "\n",
              "    .colab-df-buttons div {\n",
              "      margin-bottom: 4px;\n",
              "    }\n",
              "\n",
              "    [theme=dark] .colab-df-convert {\n",
              "      background-color: #3B4455;\n",
              "      fill: #D2E3FC;\n",
              "    }\n",
              "\n",
              "    [theme=dark] .colab-df-convert:hover {\n",
              "      background-color: #434B5C;\n",
              "      box-shadow: 0px 1px 3px 1px rgba(0, 0, 0, 0.15);\n",
              "      filter: drop-shadow(0px 1px 2px rgba(0, 0, 0, 0.3));\n",
              "      fill: #FFFFFF;\n",
              "    }\n",
              "  </style>\n",
              "\n",
              "    <script>\n",
              "      const buttonEl =\n",
              "        document.querySelector('#df-34cab242-9449-4c54-8a43-66f3d17ef16a button.colab-df-convert');\n",
              "      buttonEl.style.display =\n",
              "        google.colab.kernel.accessAllowed ? 'block' : 'none';\n",
              "\n",
              "      async function convertToInteractive(key) {\n",
              "        const element = document.querySelector('#df-34cab242-9449-4c54-8a43-66f3d17ef16a');\n",
              "        const dataTable =\n",
              "          await google.colab.kernel.invokeFunction('convertToInteractive',\n",
              "                                                    [key], {});\n",
              "        if (!dataTable) return;\n",
              "\n",
              "        const docLinkHtml = 'Like what you see? Visit the ' +\n",
              "          '<a target=\"_blank\" href=https://colab.research.google.com/notebooks/data_table.ipynb>data table notebook</a>'\n",
              "          + ' to learn more about interactive tables.';\n",
              "        element.innerHTML = '';\n",
              "        dataTable['output_type'] = 'display_data';\n",
              "        await google.colab.output.renderOutput(dataTable, element);\n",
              "        const docLink = document.createElement('div');\n",
              "        docLink.innerHTML = docLinkHtml;\n",
              "        element.appendChild(docLink);\n",
              "      }\n",
              "    </script>\n",
              "  </div>\n",
              "\n",
              "\n",
              "<div id=\"df-394114b4-18c1-4c69-b3df-4ad7b3e96ce0\">\n",
              "  <button class=\"colab-df-quickchart\" onclick=\"quickchart('df-394114b4-18c1-4c69-b3df-4ad7b3e96ce0')\"\n",
              "            title=\"Suggest charts\"\n",
              "            style=\"display:none;\">\n",
              "\n",
              "<svg xmlns=\"http://www.w3.org/2000/svg\" height=\"24px\"viewBox=\"0 0 24 24\"\n",
              "     width=\"24px\">\n",
              "    <g>\n",
              "        <path d=\"M19 3H5c-1.1 0-2 .9-2 2v14c0 1.1.9 2 2 2h14c1.1 0 2-.9 2-2V5c0-1.1-.9-2-2-2zM9 17H7v-7h2v7zm4 0h-2V7h2v10zm4 0h-2v-4h2v4z\"/>\n",
              "    </g>\n",
              "</svg>\n",
              "  </button>\n",
              "\n",
              "<style>\n",
              "  .colab-df-quickchart {\n",
              "      --bg-color: #E8F0FE;\n",
              "      --fill-color: #1967D2;\n",
              "      --hover-bg-color: #E2EBFA;\n",
              "      --hover-fill-color: #174EA6;\n",
              "      --disabled-fill-color: #AAA;\n",
              "      --disabled-bg-color: #DDD;\n",
              "  }\n",
              "\n",
              "  [theme=dark] .colab-df-quickchart {\n",
              "      --bg-color: #3B4455;\n",
              "      --fill-color: #D2E3FC;\n",
              "      --hover-bg-color: #434B5C;\n",
              "      --hover-fill-color: #FFFFFF;\n",
              "      --disabled-bg-color: #3B4455;\n",
              "      --disabled-fill-color: #666;\n",
              "  }\n",
              "\n",
              "  .colab-df-quickchart {\n",
              "    background-color: var(--bg-color);\n",
              "    border: none;\n",
              "    border-radius: 50%;\n",
              "    cursor: pointer;\n",
              "    display: none;\n",
              "    fill: var(--fill-color);\n",
              "    height: 32px;\n",
              "    padding: 0;\n",
              "    width: 32px;\n",
              "  }\n",
              "\n",
              "  .colab-df-quickchart:hover {\n",
              "    background-color: var(--hover-bg-color);\n",
              "    box-shadow: 0 1px 2px rgba(60, 64, 67, 0.3), 0 1px 3px 1px rgba(60, 64, 67, 0.15);\n",
              "    fill: var(--button-hover-fill-color);\n",
              "  }\n",
              "\n",
              "  .colab-df-quickchart-complete:disabled,\n",
              "  .colab-df-quickchart-complete:disabled:hover {\n",
              "    background-color: var(--disabled-bg-color);\n",
              "    fill: var(--disabled-fill-color);\n",
              "    box-shadow: none;\n",
              "  }\n",
              "\n",
              "  .colab-df-spinner {\n",
              "    border: 2px solid var(--fill-color);\n",
              "    border-color: transparent;\n",
              "    border-bottom-color: var(--fill-color);\n",
              "    animation:\n",
              "      spin 1s steps(1) infinite;\n",
              "  }\n",
              "\n",
              "  @keyframes spin {\n",
              "    0% {\n",
              "      border-color: transparent;\n",
              "      border-bottom-color: var(--fill-color);\n",
              "      border-left-color: var(--fill-color);\n",
              "    }\n",
              "    20% {\n",
              "      border-color: transparent;\n",
              "      border-left-color: var(--fill-color);\n",
              "      border-top-color: var(--fill-color);\n",
              "    }\n",
              "    30% {\n",
              "      border-color: transparent;\n",
              "      border-left-color: var(--fill-color);\n",
              "      border-top-color: var(--fill-color);\n",
              "      border-right-color: var(--fill-color);\n",
              "    }\n",
              "    40% {\n",
              "      border-color: transparent;\n",
              "      border-right-color: var(--fill-color);\n",
              "      border-top-color: var(--fill-color);\n",
              "    }\n",
              "    60% {\n",
              "      border-color: transparent;\n",
              "      border-right-color: var(--fill-color);\n",
              "    }\n",
              "    80% {\n",
              "      border-color: transparent;\n",
              "      border-right-color: var(--fill-color);\n",
              "      border-bottom-color: var(--fill-color);\n",
              "    }\n",
              "    90% {\n",
              "      border-color: transparent;\n",
              "      border-bottom-color: var(--fill-color);\n",
              "    }\n",
              "  }\n",
              "</style>\n",
              "\n",
              "  <script>\n",
              "    async function quickchart(key) {\n",
              "      const quickchartButtonEl =\n",
              "        document.querySelector('#' + key + ' button');\n",
              "      quickchartButtonEl.disabled = true;  // To prevent multiple clicks.\n",
              "      quickchartButtonEl.classList.add('colab-df-spinner');\n",
              "      try {\n",
              "        const charts = await google.colab.kernel.invokeFunction(\n",
              "            'suggestCharts', [key], {});\n",
              "      } catch (error) {\n",
              "        console.error('Error during call to suggestCharts:', error);\n",
              "      }\n",
              "      quickchartButtonEl.classList.remove('colab-df-spinner');\n",
              "      quickchartButtonEl.classList.add('colab-df-quickchart-complete');\n",
              "    }\n",
              "    (() => {\n",
              "      let quickchartButtonEl =\n",
              "        document.querySelector('#df-394114b4-18c1-4c69-b3df-4ad7b3e96ce0 button');\n",
              "      quickchartButtonEl.style.display =\n",
              "        google.colab.kernel.accessAllowed ? 'block' : 'none';\n",
              "    })();\n",
              "  </script>\n",
              "</div>\n",
              "\n",
              "    </div>\n",
              "  </div>\n"
            ],
            "application/vnd.google.colaboratory.intrinsic+json": {
              "type": "dataframe",
              "variable_name": "sports_cars",
              "summary": "{\n  \"name\": \"sports_cars\",\n  \"rows\": 1007,\n  \"fields\": [\n    {\n      \"column\": \"Car Make\",\n      \"properties\": {\n        \"dtype\": \"category\",\n        \"num_unique_values\": 38,\n        \"samples\": [\n          \"Subaru\",\n          \"Alpine\",\n          \"McLaren\"\n        ],\n        \"semantic_type\": \"\",\n        \"description\": \"\"\n      }\n    },\n    {\n      \"column\": \"Car Model\",\n      \"properties\": {\n        \"dtype\": \"category\",\n        \"num_unique_values\": 176,\n        \"samples\": [\n          \"Giulia Quadrifoglio\",\n          \"Mustang GT\",\n          \"Senna\"\n        ],\n        \"semantic_type\": \"\",\n        \"description\": \"\"\n      }\n    },\n    {\n      \"column\": \"Year\",\n      \"properties\": {\n        \"dtype\": \"number\",\n        \"std\": 2,\n        \"min\": 1965,\n        \"max\": 2023,\n        \"num_unique_values\": 9,\n        \"samples\": [\n          2014,\n          2021,\n          2017\n        ],\n        \"semantic_type\": \"\",\n        \"description\": \"\"\n      }\n    },\n    {\n      \"column\": \"Engine Size (L)\",\n      \"properties\": {\n        \"dtype\": \"date\",\n        \"min\": 0.0,\n        \"max\": 8.4,\n        \"num_unique_values\": 34,\n        \"samples\": [\n          3.7,\n          8.4,\n          4.6\n        ],\n        \"semantic_type\": \"\",\n        \"description\": \"\"\n      }\n    },\n    {\n      \"column\": \"Horsepower\",\n      \"properties\": {\n        \"dtype\": \"date\",\n        \"min\": 181,\n        \"max\": 10000,\n        \"num_unique_values\": 118,\n        \"samples\": [\n          764,\n          1888,\n          710\n        ],\n        \"semantic_type\": \"\",\n        \"description\": \"\"\n      }\n    },\n    {\n      \"column\": \"Torque (lb-ft)\",\n      \"properties\": {\n        \"dtype\": \"date\",\n        \"min\": 0.0,\n        \"max\": 10000.0,\n        \"num_unique_values\": 90,\n        \"samples\": [\n          707.0,\n          468.0,\n          600.0\n        ],\n        \"semantic_type\": \"\",\n        \"description\": \"\"\n      }\n    },\n    {\n      \"column\": \"0-60 MPH Time (seconds)\",\n      \"properties\": {\n        \"dtype\": \"date\",\n        \"min\": 1.8,\n        \"max\": 6.5,\n        \"num_unique_values\": 42,\n        \"samples\": [\n          5.0,\n          4.7,\n          2.5\n        ],\n        \"semantic_type\": \"\",\n        \"description\": \"\"\n      }\n    },\n    {\n      \"column\": \"Price (in USD)\",\n      \"properties\": {\n        \"dtype\": \"date\",\n        \"min\": 25000,\n        \"max\": 5200000,\n        \"num_unique_values\": 367,\n        \"samples\": [\n          30000,\n          45690,\n          92950\n        ],\n        \"semantic_type\": \"\",\n        \"description\": \"\"\n      }\n    },\n    {\n      \"column\": \"Electric\",\n      \"properties\": {\n        \"dtype\": \"category\",\n        \"num_unique_values\": 2,\n        \"samples\": [\n          \"Yes\",\n          \"No\"\n        ],\n        \"semantic_type\": \"\",\n        \"description\": \"\"\n      }\n    },\n    {\n      \"column\": \"Hybrid\",\n      \"properties\": {\n        \"dtype\": \"category\",\n        \"num_unique_values\": 2,\n        \"samples\": [\n          \"Yes\",\n          \"No\"\n        ],\n        \"semantic_type\": \"\",\n        \"description\": \"\"\n      }\n    }\n  ]\n}"
            }
          },
          "metadata": {},
          "execution_count": 22
        }
      ]
    },
    {
      "cell_type": "markdown",
      "source": [
        "**Exploratory Data Analysis**"
      ],
      "metadata": {
        "id": "qabXsJiqQP4t"
      }
    },
    {
      "cell_type": "code",
      "source": [
        "numerical_features = ['Engine Size (L)', 'Horsepower', 'Torque (lb-ft)','0-60 MPH Time (seconds)','Price (in USD)']\n",
        "plt.figure(figsize=(10, 5))\n",
        "for feature in numerical_features:\n",
        "    plt.subplot(2, 3, numerical_features.index(feature) + 1)\n",
        "    sns.histplot(data=sports_cars[feature], bins=10, kde=True)\n",
        "    plt.title(feature)\n",
        "plt.tight_layout()\n",
        "plt.show()"
      ],
      "metadata": {
        "id": "WUhrQ57zQJ-L",
        "colab": {
          "base_uri": "https://localhost:8080/",
          "height": 507
        },
        "outputId": "a6a1fe5d-b209-4417-e861-c221f6ea6589"
      },
      "execution_count": 23,
      "outputs": [
        {
          "output_type": "display_data",
          "data": {
            "text/plain": [
              "<Figure size 1000x500 with 5 Axes>"
            ],
            "image/png": "[encoded data removed]"
          },
          "metadata": {}
        }
      ]
    },
    {
      "cell_type": "code",
      "source": [
        "plt.figure(figsize=(20,8))\n",
        "\n",
        "plt.subplot(1,3,1)\n",
        "sns.countplot(x = 'Year',data = sports_cars)\n",
        "\n",
        "def horizontal_plot(col):\n",
        "    df = sports_cars[col].value_counts().head(15)\n",
        "    ax = sns.barplot(x = df.values,y = df.index)\n",
        "    ax.set(xticklabels=[],title = f'Number of sports cars by {col.split()[1].lower()}',ylabel = col.split()[1])\n",
        "    ax.tick_params(bottom=False)\n",
        "\n",
        "    for bars in ax.containers:\n",
        "        ax.bar_label(bars)\n",
        "plt.subplot(1,3,2)\n",
        "#adding colormap\n",
        "sns.set_palette('plasma')\n",
        "horizontal_plot('Car Make')\n",
        "\n",
        "plt.subplot(1,3,3)\n",
        "#adding colormap\n",
        "sns.set_palette('cividis')\n",
        "horizontal_plot('Car Model')\n",
        "\n",
        "\n",
        "plt.tight_layout()\n",
        "plt.show()"
      ],
      "metadata": {
        "id": "ICDN4adVQWSP",
        "colab": {
          "base_uri": "https://localhost:8080/",
          "height": 456
        },
        "outputId": "8120bfc1-2e3d-4ab1-caeb-49e9b7733373"
      },
      "execution_count": 24,
      "outputs": [
        {
          "output_type": "display_data",
          "data": {
            "text/plain": [
              "<Figure size 2000x800 with 3 Axes>"
            ],
            "image/png": "[encoded data removed]"
          },
          "metadata": {}
        }
      ]
    },
    {
      "cell_type": "code",
      "source": [
        "def vertical_plot(col):\n",
        "    plt.figure(figsize=(21, 6))\n",
        "    df = pd.DataFrame(sports_cars.groupby([col]).agg({'Price (in USD)': ['mean', 'count']}))\n",
        "    df = df.sort_values(by=('Price (in USD)','mean'), ascending=False).head(15)\n",
        "    ax = sns.barplot(data=df, x=df.index, y=('Price (in USD)','mean'))\n",
        "    ax.set(yticklabels = [], title = f'{col} vs Average Price', ylabel='Average Price in USD')\n",
        "    ax.tick_params(left=False)\n",
        "\n",
        "\n",
        "    for i in range(0,15):\n",
        "        if df['Price (in USD)']['mean'][i] > 999999:\n",
        "            mean = str(round(df['Price (in USD)']['mean'][i]/1000000,2)) + 'M'\n",
        "        else:\n",
        "            mean = str(round(df['Price (in USD)']['mean'][i]/1000,2)) + 'K'\n",
        "        ax.text(i, df['Price (in USD)']['mean'][i]/2, mean ,ha='center')\n",
        "        plt.tight_layout()\n",
        "        sns.set_palette('plasma')\n",
        "        plt.show()\n",
        "\n",
        "vertical_plot('Car Make')"
      ],
      "metadata": {
        "id": "zB51-Vt-Qh8f",
        "colab": {
          "base_uri": "https://localhost:8080/",
          "height": 572
        },
        "outputId": "d19d403a-5a5f-405e-e012-700dd8ce3da3"
      },
      "execution_count": 25,
      "outputs": [
        {
          "output_type": "display_data",
          "data": {
            "text/plain": [
              "<Figure size 2100x600 with 1 Axes>"
            ],
            "image/png": "[encoded data removed]"
          },
          "metadata": {}
        },
        {
          "output_type": "display_data",
          "data": {
            "text/plain": [
              "<Figure size 640x480 with 0 Axes>"
            ]
          },
          "metadata": {}
        },
        {
          "output_type": "display_data",
          "data": {
            "text/plain": [
              "<Figure size 640x480 with 0 Axes>"
            ]
          },
          "metadata": {}
        },
        {
          "output_type": "display_data",
          "data": {
            "text/plain": [
              "<Figure size 640x480 with 0 Axes>"
            ]
          },
          "metadata": {}
        },
        {
          "output_type": "display_data",
          "data": {
            "text/plain": [
              "<Figure size 640x480 with 0 Axes>"
            ]
          },
          "metadata": {}
        },
        {
          "output_type": "display_data",
          "data": {
            "text/plain": [
              "<Figure size 640x480 with 0 Axes>"
            ]
          },
          "metadata": {}
        },
        {
          "output_type": "display_data",
          "data": {
            "text/plain": [
              "<Figure size 640x480 with 0 Axes>"
            ]
          },
          "metadata": {}
        },
        {
          "output_type": "display_data",
          "data": {
            "text/plain": [
              "<Figure size 640x480 with 0 Axes>"
            ]
          },
          "metadata": {}
        },
        {
          "output_type": "display_data",
          "data": {
            "text/plain": [
              "<Figure size 640x480 with 0 Axes>"
            ]
          },
          "metadata": {}
        },
        {
          "output_type": "display_data",
          "data": {
            "text/plain": [
              "<Figure size 640x480 with 0 Axes>"
            ]
          },
          "metadata": {}
        },
        {
          "output_type": "display_data",
          "data": {
            "text/plain": [
              "<Figure size 640x480 with 0 Axes>"
            ]
          },
          "metadata": {}
        },
        {
          "output_type": "display_data",
          "data": {
            "text/plain": [
              "<Figure size 640x480 with 0 Axes>"
            ]
          },
          "metadata": {}
        },
        {
          "output_type": "display_data",
          "data": {
            "text/plain": [
              "<Figure size 640x480 with 0 Axes>"
            ]
          },
          "metadata": {}
        },
        {
          "output_type": "display_data",
          "data": {
            "text/plain": [
              "<Figure size 640x480 with 0 Axes>"
            ]
          },
          "metadata": {}
        },
        {
          "output_type": "display_data",
          "data": {
            "text/plain": [
              "<Figure size 640x480 with 0 Axes>"
            ]
          },
          "metadata": {}
        }
      ]
    },
    {
      "cell_type": "code",
      "source": [
        "vertical_plot('Car Model')"
      ],
      "metadata": {
        "id": "abnpba43Q1Uc",
        "colab": {
          "base_uri": "https://localhost:8080/",
          "height": 573
        },
        "outputId": "ddb3c41d-19df-45b3-cb04-fd5af6773653"
      },
      "execution_count": 26,
      "outputs": [
        {
          "output_type": "display_data",
          "data": {
            "text/plain": [
              "<Figure size 2100x600 with 1 Axes>"
            ],
            "image/png": "[encoded data removed]"
          },
          "metadata": {}
        },
        {
          "output_type": "display_data",
          "data": {
            "text/plain": [
              "<Figure size 640x480 with 0 Axes>"
            ]
          },
          "metadata": {}
        },
        {
          "output_type": "display_data",
          "data": {
            "text/plain": [
              "<Figure size 640x480 with 0 Axes>"
            ]
          },
          "metadata": {}
        },
        {
          "output_type": "display_data",
          "data": {
            "text/plain": [
              "<Figure size 640x480 with 0 Axes>"
            ]
          },
          "metadata": {}
        },
        {
          "output_type": "display_data",
          "data": {
            "text/plain": [
              "<Figure size 640x480 with 0 Axes>"
            ]
          },
          "metadata": {}
        },
        {
          "output_type": "display_data",
          "data": {
            "text/plain": [
              "<Figure size 640x480 with 0 Axes>"
            ]
          },
          "metadata": {}
        },
        {
          "output_type": "display_data",
          "data": {
            "text/plain": [
              "<Figure size 640x480 with 0 Axes>"
            ]
          },
          "metadata": {}
        },
        {
          "output_type": "display_data",
          "data": {
            "text/plain": [
              "<Figure size 640x480 with 0 Axes>"
            ]
          },
          "metadata": {}
        },
        {
          "output_type": "display_data",
          "data": {
            "text/plain": [
              "<Figure size 640x480 with 0 Axes>"
            ]
          },
          "metadata": {}
        },
        {
          "output_type": "display_data",
          "data": {
            "text/plain": [
              "<Figure size 640x480 with 0 Axes>"
            ]
          },
          "metadata": {}
        },
        {
          "output_type": "display_data",
          "data": {
            "text/plain": [
              "<Figure size 640x480 with 0 Axes>"
            ]
          },
          "metadata": {}
        },
        {
          "output_type": "display_data",
          "data": {
            "text/plain": [
              "<Figure size 640x480 with 0 Axes>"
            ]
          },
          "metadata": {}
        },
        {
          "output_type": "display_data",
          "data": {
            "text/plain": [
              "<Figure size 640x480 with 0 Axes>"
            ]
          },
          "metadata": {}
        },
        {
          "output_type": "display_data",
          "data": {
            "text/plain": [
              "<Figure size 640x480 with 0 Axes>"
            ]
          },
          "metadata": {}
        },
        {
          "output_type": "display_data",
          "data": {
            "text/plain": [
              "<Figure size 640x480 with 0 Axes>"
            ]
          },
          "metadata": {}
        }
      ]
    },
    {
      "cell_type": "code",
      "source": [
        "plt.figure(figsize=(15, 5))\n",
        "\n",
        "plt.subplot(1,2,1)\n",
        "sns.set_palette('magma')\n",
        "sns.boxplot(x = sports_cars['Electric'], y = sports_cars['Price (in USD)'])\n",
        "\n",
        "plt.subplot(1,2,2)\n",
        "sns.set_palette('magma')\n",
        "sns.boxplot(x = sports_cars['Hybrid'], y = sports_cars['Price (in USD)'])"
      ],
      "metadata": {
        "id": "WLZOtJ_tQ5bE",
        "colab": {
          "base_uri": "https://localhost:8080/",
          "height": 454
        },
        "outputId": "eb94e9de-0c21-412a-80f9-7364cd24267b"
      },
      "execution_count": 27,
      "outputs": [
        {
          "output_type": "execute_result",
          "data": {
            "text/plain": [
              "<Axes: xlabel='Hybrid', ylabel='Price (in USD)'>"
            ]
          },
          "metadata": {},
          "execution_count": 27
        },
        {
          "output_type": "display_data",
          "data": {
            "text/plain": [
              "<Figure size 1500x500 with 2 Axes>"
            ],
            "image/png": "[encoded data removed]"
          },
          "metadata": {}
        }
      ]
    },
    {
      "cell_type": "code",
      "source": [
        "sports_cars['Electric'].value_counts()"
      ],
      "metadata": {
        "id": "_ZTMw5RmQ9j4",
        "colab": {
          "base_uri": "https://localhost:8080/"
        },
        "outputId": "2fd0c60d-7623-4f87-93ac-2726801501e1"
      },
      "execution_count": 29,
      "outputs": [
        {
          "output_type": "execute_result",
          "data": {
            "text/plain": [
              "Electric\n",
              "No     963\n",
              "Yes     44\n",
              "Name: count, dtype: int64"
            ]
          },
          "metadata": {},
          "execution_count": 29
        }
      ]
    },
    {
      "cell_type": "code",
      "source": [
        "sports_cars['Hybrid'].value_counts()"
      ],
      "metadata": {
        "id": "XuicsCU7RIxZ",
        "colab": {
          "base_uri": "https://localhost:8080/"
        },
        "outputId": "43d0cb31-87ff-4cb8-952c-a910be53d6ae"
      },
      "execution_count": 30,
      "outputs": [
        {
          "output_type": "execute_result",
          "data": {
            "text/plain": [
              "Hybrid\n",
              "No     1003\n",
              "Yes       4\n",
              "Name: count, dtype: int64"
            ]
          },
          "metadata": {},
          "execution_count": 30
        }
      ]
    },
    {
      "cell_type": "code",
      "source": [
        "plt.figure(figsize=(5, 5))\n",
        "sns.heatmap(sports_cars[numerical_features].corr(), annot=True, cmap='viridis')\n",
        "plt.title('Correlation Heatmap')\n",
        "plt.show()"
      ],
      "metadata": {
        "id": "mf7nQB-rRbrT",
        "colab": {
          "base_uri": "https://localhost:8080/",
          "height": 630
        },
        "outputId": "0a3e7464-be85-4420-dd1d-892e6dd3c789"
      },
      "execution_count": 31,
      "outputs": [
        {
          "output_type": "display_data",
          "data": {
            "text/plain": [
              "<Figure size 500x500 with 2 Axes>"
            ],
            "image/png": "[encoded data removed]"
          },
          "metadata": {}
        }
      ]
    },
    {
      "cell_type": "markdown",
      "source": [
        "Preprocessing and Regression"
      ],
      "metadata": {
        "id": "65iQIoCBR8_7"
      }
    },
    {
      "cell_type": "code",
      "source": [
        "sports_cars['Car Model'].value_counts(ascending = True)[0:15]"
      ],
      "metadata": {
        "id": "baZE_jLURwKt",
        "colab": {
          "base_uri": "https://localhost:8080/"
        },
        "outputId": "85062271-52ee-42e0-a602-55df66fc24c1"
      },
      "execution_count": 32,
      "outputs": [
        {
          "output_type": "execute_result",
          "data": {
            "text/plain": [
              "Car Model\n",
              "Mustang             1\n",
              "AMG C 63 S          1\n",
              "Fenyr SuperSport    1\n",
              "RS                  1\n",
              "M4 Coupe            1\n",
              "CLS63 AMG           1\n",
              "SLC 43              1\n",
              "Sián                1\n",
              "Speedtail           1\n",
              "Camaro SS 1LE       1\n",
              "Jesko Absolut       1\n",
              "Viper ACR           1\n",
              "C 63 S              1\n",
              "Corvette Z06        1\n",
              "A110                1\n",
              "Name: count, dtype: int64"
            ]
          },
          "metadata": {},
          "execution_count": 32
        }
      ]
    },
    {
      "cell_type": "code",
      "source": [
        "sports_cars['Car Make'].value_counts(ascending = True)[0:15]"
      ],
      "metadata": {
        "id": "ptT3L9RoSWie",
        "colab": {
          "base_uri": "https://localhost:8080/"
        },
        "outputId": "5074ca29-d253-48fa-93ce-744b519ad279"
      },
      "execution_count": 33,
      "outputs": [
        {
          "output_type": "execute_result",
          "data": {
            "text/plain": [
              "Car Make\n",
              "Ultima           1\n",
              "Polestar         1\n",
              "Mazda            1\n",
              "Ariel            1\n",
              "Shelby           1\n",
              "Alpine           1\n",
              "Kia              1\n",
              "Pininfarina      2\n",
              "TVR              2\n",
              "W Motors         3\n",
              "Subaru           3\n",
              "Toyota           5\n",
              "Rolls-Royce     10\n",
              "Mercedes-AMG    11\n",
              "Pagani          12\n",
              "Name: count, dtype: int64"
            ]
          },
          "metadata": {},
          "execution_count": 33
        }
      ]
    },
    {
      "cell_type": "code",
      "source": [
        "# Grouping the car make with less than 10 occurences\n",
        "make = sports_cars['Car Make'].value_counts().loc[lambda x: x<10]\n",
        "apply_lambda('Car Make', lambda x : 'Others' if x in make else x)"
      ],
      "metadata": {
        "id": "xHzLqODHSrR5"
      },
      "execution_count": 34,
      "outputs": []
    },
    {
      "cell_type": "code",
      "source": [
        "sports_cars = sports_cars.drop(['Car Model', 'Year', 'Hybrid'], axis=1)\n",
        "sports_cars.head()"
      ],
      "metadata": {
        "id": "Y31EAMtbSv75",
        "colab": {
          "base_uri": "https://localhost:8080/",
          "height": 206
        },
        "outputId": "c3a04643-5bcd-4351-a2ad-6024377593f9"
      },
      "execution_count": 35,
      "outputs": [
        {
          "output_type": "execute_result",
          "data": {
            "text/plain": [
              "      Car Make Engine Size (L) Horsepower Torque (lb-ft)  \\\n",
              "0      Porsche            3.00        379         331.00   \n",
              "1  Lamborghini            5.20        630         443.00   \n",
              "2      Ferrari            3.90        661         561.00   \n",
              "3         Audi            5.20        562         406.00   \n",
              "4      McLaren            4.00        710         568.00   \n",
              "\n",
              "  0-60 MPH Time (seconds) Price (in USD) Electric  \n",
              "0                    4.00         101200       No  \n",
              "1                    2.80         274390       No  \n",
              "2                    3.00         333750       No  \n",
              "3                    3.20         142700       No  \n",
              "4                    2.70         298000       No  "
            ],
            "text/html": [
              "\n",
              "  <div id=\"df-f18efb1d-e208-41ac-80e0-f84f11c592bf\" class=\"colab-df-container\">\n",
              "    <div>\n",
              "<style scoped>\n",
              "    .dataframe tbody tr th:only-of-type {\n",
              "        vertical-align: middle;\n",
              "    }\n",
              "\n",
              "    .dataframe tbody tr th {\n",
              "        vertical-align: top;\n",
              "    }\n",
              "\n",
              "    .dataframe thead th {\n",
              "        text-align: right;\n",
              "    }\n",
              "</style>\n",
              "<table border=\"1\" class=\"dataframe\">\n",
              "  <thead>\n",
              "    <tr style=\"text-align: right;\">\n",
              "      <th></th>\n",
              "      <th>Car Make</th>\n",
              "      <th>Engine Size (L)</th>\n",
              "      <th>Horsepower</th>\n",
              "      <th>Torque (lb-ft)</th>\n",
              "      <th>0-60 MPH Time (seconds)</th>\n",
              "      <th>Price (in USD)</th>\n",
              "      <th>Electric</th>\n",
              "    </tr>\n",
              "  </thead>\n",
              "  <tbody>\n",
              "    <tr>\n",
              "      <th>0</th>\n",
              "      <td>Porsche</td>\n",
              "      <td>3.00</td>\n",
              "      <td>379</td>\n",
              "      <td>331.00</td>\n",
              "      <td>4.00</td>\n",
              "      <td>101200</td>\n",
              "      <td>No</td>\n",
              "    </tr>\n",
              "    <tr>\n",
              "      <th>1</th>\n",
              "      <td>Lamborghini</td>\n",
              "      <td>5.20</td>\n",
              "      <td>630</td>\n",
              "      <td>443.00</td>\n",
              "      <td>2.80</td>\n",
              "      <td>274390</td>\n",
              "      <td>No</td>\n",
              "    </tr>\n",
              "    <tr>\n",
              "      <th>2</th>\n",
              "      <td>Ferrari</td>\n",
              "      <td>3.90</td>\n",
              "      <td>661</td>\n",
              "      <td>561.00</td>\n",
              "      <td>3.00</td>\n",
              "      <td>333750</td>\n",
              "      <td>No</td>\n",
              "    </tr>\n",
              "    <tr>\n",
              "      <th>3</th>\n",
              "      <td>Audi</td>\n",
              "      <td>5.20</td>\n",
              "      <td>562</td>\n",
              "      <td>406.00</td>\n",
              "      <td>3.20</td>\n",
              "      <td>142700</td>\n",
              "      <td>No</td>\n",
              "    </tr>\n",
              "    <tr>\n",
              "      <th>4</th>\n",
              "      <td>McLaren</td>\n",
              "      <td>4.00</td>\n",
              "      <td>710</td>\n",
              "      <td>568.00</td>\n",
              "      <td>2.70</td>\n",
              "      <td>298000</td>\n",
              "      <td>No</td>\n",
              "    </tr>\n",
              "  </tbody>\n",
              "</table>\n",
              "</div>\n",
              "    <div class=\"colab-df-buttons\">\n",
              "\n",
              "  <div class=\"colab-df-container\">\n",
              "    <button class=\"colab-df-convert\" onclick=\"convertToInteractive('df-f18efb1d-e208-41ac-80e0-f84f11c592bf')\"\n",
              "            title=\"Convert this dataframe to an interactive table.\"\n",
              "            style=\"display:none;\">\n",
              "\n",
              "  <svg xmlns=\"http://www.w3.org/2000/svg\" height=\"24px\" viewBox=\"0 -960 960 960\">\n",
              "    <path d=\"M120-120v-720h720v720H120Zm60-500h600v-160H180v160Zm220 220h160v-160H400v160Zm0 220h160v-160H400v160ZM180-400h160v-160H180v160Zm440 0h160v-160H620v160ZM180-180h160v-160H180v160Zm440 0h160v-160H620v160Z\"/>\n",
              "  </svg>\n",
              "    </button>\n",
              "\n",
              "  <style>\n",
              "    .colab-df-container {\n",
              "      display:flex;\n",
              "      gap: 12px;\n",
              "    }\n",
              "\n",
              "    .colab-df-convert {\n",
              "      background-color: #E8F0FE;\n",
              "      border: none;\n",
              "      border-radius: 50%;\n",
              "      cursor: pointer;\n",
              "      display: none;\n",
              "      fill: #1967D2;\n",
              "      height: 32px;\n",
              "      padding: 0 0 0 0;\n",
              "      width: 32px;\n",
              "    }\n",
              "\n",
              "    .colab-df-convert:hover {\n",
              "      background-color: #E2EBFA;\n",
              "      box-shadow: 0px 1px 2px rgba(60, 64, 67, 0.3), 0px 1px 3px 1px rgba(60, 64, 67, 0.15);\n",
              "      fill: #174EA6;\n",
              "    }\n",
              "\n",
              "    .colab-df-buttons div {\n",
              "      margin-bottom: 4px;\n",
              "    }\n",
              "\n",
              "    [theme=dark] .colab-df-convert {\n",
              "      background-color: #3B4455;\n",
              "      fill: #D2E3FC;\n",
              "    }\n",
              "\n",
              "    [theme=dark] .colab-df-convert:hover {\n",
              "      background-color: #434B5C;\n",
              "      box-shadow: 0px 1px 3px 1px rgba(0, 0, 0, 0.15);\n",
              "      filter: drop-shadow(0px 1px 2px rgba(0, 0, 0, 0.3));\n",
              "      fill: #FFFFFF;\n",
              "    }\n",
              "  </style>\n",
              "\n",
              "    <script>\n",
              "      const buttonEl =\n",
              "        document.querySelector('#df-f18efb1d-e208-41ac-80e0-f84f11c592bf button.colab-df-convert');\n",
              "      buttonEl.style.display =\n",
              "        google.colab.kernel.accessAllowed ? 'block' : 'none';\n",
              "\n",
              "      async function convertToInteractive(key) {\n",
              "        const element = document.querySelector('#df-f18efb1d-e208-41ac-80e0-f84f11c592bf');\n",
              "        const dataTable =\n",
              "          await google.colab.kernel.invokeFunction('convertToInteractive',\n",
              "                                                    [key], {});\n",
              "        if (!dataTable) return;\n",
              "\n",
              "        const docLinkHtml = 'Like what you see? Visit the ' +\n",
              "          '<a target=\"_blank\" href=https://colab.research.google.com/notebooks/data_table.ipynb>data table notebook</a>'\n",
              "          + ' to learn more about interactive tables.';\n",
              "        element.innerHTML = '';\n",
              "        dataTable['output_type'] = 'display_data';\n",
              "        await google.colab.output.renderOutput(dataTable, element);\n",
              "        const docLink = document.createElement('div');\n",
              "        docLink.innerHTML = docLinkHtml;\n",
              "        element.appendChild(docLink);\n",
              "      }\n",
              "    </script>\n",
              "  </div>\n",
              "\n",
              "\n",
              "<div id=\"df-2e2138ca-241b-4c1e-8cdc-f5023f5d5d79\">\n",
              "  <button class=\"colab-df-quickchart\" onclick=\"quickchart('df-2e2138ca-241b-4c1e-8cdc-f5023f5d5d79')\"\n",
              "            title=\"Suggest charts\"\n",
              "            style=\"display:none;\">\n",
              "\n",
              "<svg xmlns=\"http://www.w3.org/2000/svg\" height=\"24px\"viewBox=\"0 0 24 24\"\n",
              "     width=\"24px\">\n",
              "    <g>\n",
              "        <path d=\"M19 3H5c-1.1 0-2 .9-2 2v14c0 1.1.9 2 2 2h14c1.1 0 2-.9 2-2V5c0-1.1-.9-2-2-2zM9 17H7v-7h2v7zm4 0h-2V7h2v10zm4 0h-2v-4h2v4z\"/>\n",
              "    </g>\n",
              "</svg>\n",
              "  </button>\n",
              "\n",
              "<style>\n",
              "  .colab-df-quickchart {\n",
              "      --bg-color: #E8F0FE;\n",
              "      --fill-color: #1967D2;\n",
              "      --hover-bg-color: #E2EBFA;\n",
              "      --hover-fill-color: #174EA6;\n",
              "      --disabled-fill-color: #AAA;\n",
              "      --disabled-bg-color: #DDD;\n",
              "  }\n",
              "\n",
              "  [theme=dark] .colab-df-quickchart {\n",
              "      --bg-color: #3B4455;\n",
              "      --fill-color: #D2E3FC;\n",
              "      --hover-bg-color: #434B5C;\n",
              "      --hover-fill-color: #FFFFFF;\n",
              "      --disabled-bg-color: #3B4455;\n",
              "      --disabled-fill-color: #666;\n",
              "  }\n",
              "\n",
              "  .colab-df-quickchart {\n",
              "    background-color: var(--bg-color);\n",
              "    border: none;\n",
              "    border-radius: 50%;\n",
              "    cursor: pointer;\n",
              "    display: none;\n",
              "    fill: var(--fill-color);\n",
              "    height: 32px;\n",
              "    padding: 0;\n",
              "    width: 32px;\n",
              "  }\n",
              "\n",
              "  .colab-df-quickchart:hover {\n",
              "    background-color: var(--hover-bg-color);\n",
              "    box-shadow: 0 1px 2px rgba(60, 64, 67, 0.3), 0 1px 3px 1px rgba(60, 64, 67, 0.15);\n",
              "    fill: var(--button-hover-fill-color);\n",
              "  }\n",
              "\n",
              "  .colab-df-quickchart-complete:disabled,\n",
              "  .colab-df-quickchart-complete:disabled:hover {\n",
              "    background-color: var(--disabled-bg-color);\n",
              "    fill: var(--disabled-fill-color);\n",
              "    box-shadow: none;\n",
              "  }\n",
              "\n",
              "  .colab-df-spinner {\n",
              "    border: 2px solid var(--fill-color);\n",
              "    border-color: transparent;\n",
              "    border-bottom-color: var(--fill-color);\n",
              "    animation:\n",
              "      spin 1s steps(1) infinite;\n",
              "  }\n",
              "\n",
              "  @keyframes spin {\n",
              "    0% {\n",
              "      border-color: transparent;\n",
              "      border-bottom-color: var(--fill-color);\n",
              "      border-left-color: var(--fill-color);\n",
              "    }\n",
              "    20% {\n",
              "      border-color: transparent;\n",
              "      border-left-color: var(--fill-color);\n",
              "      border-top-color: var(--fill-color);\n",
              "    }\n",
              "    30% {\n",
              "      border-color: transparent;\n",
              "      border-left-color: var(--fill-color);\n",
              "      border-top-color: var(--fill-color);\n",
              "      border-right-color: var(--fill-color);\n",
              "    }\n",
              "    40% {\n",
              "      border-color: transparent;\n",
              "      border-right-color: var(--fill-color);\n",
              "      border-top-color: var(--fill-color);\n",
              "    }\n",
              "    60% {\n",
              "      border-color: transparent;\n",
              "      border-right-color: var(--fill-color);\n",
              "    }\n",
              "    80% {\n",
              "      border-color: transparent;\n",
              "      border-right-color: var(--fill-color);\n",
              "      border-bottom-color: var(--fill-color);\n",
              "    }\n",
              "    90% {\n",
              "      border-color: transparent;\n",
              "      border-bottom-color: var(--fill-color);\n",
              "    }\n",
              "  }\n",
              "</style>\n",
              "\n",
              "  <script>\n",
              "    async function quickchart(key) {\n",
              "      const quickchartButtonEl =\n",
              "        document.querySelector('#' + key + ' button');\n",
              "      quickchartButtonEl.disabled = true;  // To prevent multiple clicks.\n",
              "      quickchartButtonEl.classList.add('colab-df-spinner');\n",
              "      try {\n",
              "        const charts = await google.colab.kernel.invokeFunction(\n",
              "            'suggestCharts', [key], {});\n",
              "      } catch (error) {\n",
              "        console.error('Error during call to suggestCharts:', error);\n",
              "      }\n",
              "      quickchartButtonEl.classList.remove('colab-df-spinner');\n",
              "      quickchartButtonEl.classList.add('colab-df-quickchart-complete');\n",
              "    }\n",
              "    (() => {\n",
              "      let quickchartButtonEl =\n",
              "        document.querySelector('#df-2e2138ca-241b-4c1e-8cdc-f5023f5d5d79 button');\n",
              "      quickchartButtonEl.style.display =\n",
              "        google.colab.kernel.accessAllowed ? 'block' : 'none';\n",
              "    })();\n",
              "  </script>\n",
              "</div>\n",
              "\n",
              "    </div>\n",
              "  </div>\n"
            ],
            "application/vnd.google.colaboratory.intrinsic+json": {
              "type": "dataframe",
              "variable_name": "sports_cars",
              "summary": "{\n  \"name\": \"sports_cars\",\n  \"rows\": 1007,\n  \"fields\": [\n    {\n      \"column\": \"Car Make\",\n      \"properties\": {\n        \"dtype\": \"category\",\n        \"num_unique_values\": 27,\n        \"samples\": [\n          \"Ford\",\n          \"Jaguar\",\n          \"Nissan\"\n        ],\n        \"semantic_type\": \"\",\n        \"description\": \"\"\n      }\n    },\n    {\n      \"column\": \"Engine Size (L)\",\n      \"properties\": {\n        \"dtype\": \"date\",\n        \"min\": 0.0,\n        \"max\": 8.4,\n        \"num_unique_values\": 34,\n        \"samples\": [\n          3.7,\n          8.4,\n          4.6\n        ],\n        \"semantic_type\": \"\",\n        \"description\": \"\"\n      }\n    },\n    {\n      \"column\": \"Horsepower\",\n      \"properties\": {\n        \"dtype\": \"date\",\n        \"min\": 181,\n        \"max\": 10000,\n        \"num_unique_values\": 118,\n        \"samples\": [\n          764,\n          1888,\n          710\n        ],\n        \"semantic_type\": \"\",\n        \"description\": \"\"\n      }\n    },\n    {\n      \"column\": \"Torque (lb-ft)\",\n      \"properties\": {\n        \"dtype\": \"date\",\n        \"min\": 0.0,\n        \"max\": 10000.0,\n        \"num_unique_values\": 90,\n        \"samples\": [\n          707.0,\n          468.0,\n          600.0\n        ],\n        \"semantic_type\": \"\",\n        \"description\": \"\"\n      }\n    },\n    {\n      \"column\": \"0-60 MPH Time (seconds)\",\n      \"properties\": {\n        \"dtype\": \"date\",\n        \"min\": 1.8,\n        \"max\": 6.5,\n        \"num_unique_values\": 42,\n        \"samples\": [\n          5.0,\n          4.7,\n          2.5\n        ],\n        \"semantic_type\": \"\",\n        \"description\": \"\"\n      }\n    },\n    {\n      \"column\": \"Price (in USD)\",\n      \"properties\": {\n        \"dtype\": \"date\",\n        \"min\": 25000,\n        \"max\": 5200000,\n        \"num_unique_values\": 367,\n        \"samples\": [\n          30000,\n          45690,\n          92950\n        ],\n        \"semantic_type\": \"\",\n        \"description\": \"\"\n      }\n    },\n    {\n      \"column\": \"Electric\",\n      \"properties\": {\n        \"dtype\": \"category\",\n        \"num_unique_values\": 2,\n        \"samples\": [\n          \"Yes\",\n          \"No\"\n        ],\n        \"semantic_type\": \"\",\n        \"description\": \"\"\n      }\n    }\n  ]\n}"
            }
          },
          "metadata": {},
          "execution_count": 35
        }
      ]
    },
    {
      "cell_type": "code",
      "source": [
        "from sklearn.model_selection import train_test_split\n",
        "\n",
        "x = sports_cars.drop(['Price (in USD)'], axis = 1)\n",
        "y = sports_cars['Price (in USD)']\n",
        "\n",
        "x_train,x_test,y_train,y_test = train_test_split(x,y, random_state = 42)"
      ],
      "metadata": {
        "id": "51wGuJDVS1n0"
      },
      "execution_count": 36,
      "outputs": []
    },
    {
      "cell_type": "code",
      "source": [
        "from sklearn.pipeline import Pipeline, FeatureUnion\n",
        "from sklearn.base import BaseEstimator, TransformerMixin\n",
        "from sklearn.preprocessing import LabelEncoder, OneHotEncoder, StandardScaler\n",
        "from sklearn.impute import SimpleImputer\n",
        "from sklearn.model_selection import cross_val_score\n",
        "\n",
        "class DataFrameSelector(BaseEstimator, TransformerMixin):\n",
        "    def __init__(self, attribute_names):\n",
        "        self.attribute_names = attribute_names\n",
        "    def fit(self, X, y=None):\n",
        "        return self\n",
        "    def transform(self, X):\n",
        "        return X[self.attribute_names].values\n",
        "\n",
        "cat_attribs = list(sports_cars.iloc[:, [0, 6]])\n",
        "num_attribs = list(sports_cars.iloc[:, 1:5])\n",
        "cat_pipeline = Pipeline([\n",
        "    ('selector', DataFrameSelector(cat_attribs)),\n",
        "    ('one_hot_encoder', OneHotEncoder(sparse=False))\n",
        "])\n",
        "\n",
        "num_pipeline = Pipeline([\n",
        "    ('selector', DataFrameSelector(num_attribs)),\n",
        "    ('imputer', SimpleImputer(strategy='median')),\n",
        "    ('std_scaler', StandardScaler())\n",
        "])\n",
        "\n",
        "full_pipeline = FeatureUnion(transformer_list=[\n",
        "    ('cat_pipeline', cat_pipeline),\n",
        "    ('num_pipeline', num_pipeline),\n",
        "])"
      ],
      "metadata": {
        "id": "U_adI0ByTGQX"
      },
      "execution_count": 37,
      "outputs": []
    },
    {
      "cell_type": "code",
      "source": [
        "x_train_prepared = full_pipeline.fit_transform(x_train)\n",
        "x_test_prepared = full_pipeline.fit_transform(x_test)"
      ],
      "metadata": {
        "id": "XkBF5XTUTYz8"
      },
      "execution_count": 38,
      "outputs": []
    },
    {
      "cell_type": "code",
      "source": [
        "def display_scores(scores):\n",
        "    print(\"Scores:\", scores)\n",
        "    print(\"Mean:\", scores.mean())\n",
        "    print(\"Standard deviation:\", scores.std())"
      ],
      "metadata": {
        "id": "l6m9pJ0xTc0x"
      },
      "execution_count": 39,
      "outputs": []
    },
    {
      "cell_type": "code",
      "source": [
        "from sklearn.linear_model import LinearRegression\n",
        "\n",
        "lin_reg = LinearRegression()\n",
        "lin_reg.fit(x_train_prepared,y_train)\n",
        "lin_train_pred = lin_reg.predict(x_train_prepared)\n",
        "lin_test_pred = lin_reg.predict(x_test_prepared)\n",
        "\n",
        "print('RMSE train data: %.3f' % (\n",
        "np.sqrt(mean_squared_error(y_train,lin_train_pred))))\n",
        "print('R2 train data: %.3f' % (\n",
        "r2_score(y_train,lin_train_pred)))"
      ],
      "metadata": {
        "id": "JnSGAN3HTh6P",
        "colab": {
          "base_uri": "https://localhost:8080/"
        },
        "outputId": "11bf5a7e-346a-4013-a83c-f453b111fec2"
      },
      "execution_count": 40,
      "outputs": [
        {
          "output_type": "stream",
          "name": "stdout",
          "text": [
            "RMSE train data: 229526.296\n",
            "R2 train data: 0.898\n"
          ]
        }
      ]
    },
    {
      "cell_type": "code",
      "source": [
        "lin_scores = cross_val_score(lin_reg, x_train_prepared, y_train, scoring = \"neg_mean_squared_error\", cv=10)\n",
        "lin_rmse_scores = np.sqrt(-lin_scores)\n",
        "display_scores(lin_rmse_scores)"
      ],
      "metadata": {
        "id": "KL-9xxLWToPE",
        "colab": {
          "base_uri": "https://localhost:8080/"
        },
        "outputId": "b6c2215a-3588-4c45-9c56-52ac3c48baeb"
      },
      "execution_count": 41,
      "outputs": [
        {
          "output_type": "stream",
          "name": "stdout",
          "text": [
            "Scores: [145353.88665242 144157.13904461 152078.10037579 398060.10629323\n",
            "  91823.85939918 277920.75761207 427867.12290203 157275.38171469\n",
            " 254921.21468674 197684.39880635]\n",
            "Mean: 224714.1967487115\n",
            "Standard deviation: 107733.59001898085\n"
          ]
        }
      ]
    },
    {
      "cell_type": "code",
      "source": [
        "from sklearn.ensemble import RandomForestRegressor\n",
        "\n",
        "forest = RandomForestRegressor()\n",
        "forest.fit(x_train_prepared,y_train)\n",
        "forest_train_pred = forest.predict(x_train_prepared)\n",
        "forest_test_pred = forest.predict(x_test_prepared)\n",
        "\n",
        "print('RMSE train data: %.3f' % (\n",
        "np.sqrt(mean_squared_error(y_train,forest_train_pred))))\n",
        "print('R2 train data: %.3f' % (\n",
        "r2_score(y_train,forest_train_pred)))"
      ],
      "metadata": {
        "id": "RDaN4MfETscj",
        "colab": {
          "base_uri": "https://localhost:8080/"
        },
        "outputId": "2f7926bf-af3a-4a7b-b44e-19ea82b66fc0"
      },
      "execution_count": 42,
      "outputs": [
        {
          "output_type": "stream",
          "name": "stdout",
          "text": [
            "RMSE train data: 74416.672\n",
            "R2 train data: 0.989\n"
          ]
        }
      ]
    },
    {
      "cell_type": "code",
      "source": [
        "from sklearn.linear_model import SGDRegressor\n",
        "\n",
        "sgd_reg = SGDRegressor()\n",
        "sgd_reg.fit(x_train_prepared,y_train)\n",
        "sgd_train_pred = sgd_reg.predict(x_train_prepared)\n",
        "sgd_test_pred = sgd_reg.predict(x_test_prepared)\n",
        "\n",
        "print('RMSE train data: %.3f' % (\n",
        "np.sqrt(mean_squared_error(y_train,sgd_train_pred))))\n",
        "print('R2 train data: %.3f' % (\n",
        "r2_score(y_train,sgd_train_pred)))"
      ],
      "metadata": {
        "id": "ginVZ5gOTyX5",
        "colab": {
          "base_uri": "https://localhost:8080/"
        },
        "outputId": "e2d0f383-cbb0-400e-a2b8-db26efa08782"
      },
      "execution_count": 43,
      "outputs": [
        {
          "output_type": "stream",
          "name": "stdout",
          "text": [
            "RMSE train data: 233627.266\n",
            "R2 train data: 0.895\n"
          ]
        }
      ]
    },
    {
      "cell_type": "code",
      "source": [
        "sgd_scores = cross_val_score(sgd_reg, x_train_prepared, y_train, scoring = \"neg_mean_squared_error\", cv=10)\n",
        "sgd_rmse_scores = np.sqrt(-sgd_scores)\n",
        "display_scores(sgd_rmse_scores)"
      ],
      "metadata": {
        "id": "zbcpPDGlT3Oy",
        "colab": {
          "base_uri": "https://localhost:8080/"
        },
        "outputId": "e5abdb32-a9c1-4dea-a4ed-55d473e8ef09"
      },
      "execution_count": 44,
      "outputs": [
        {
          "output_type": "stream",
          "name": "stdout",
          "text": [
            "Scores: [181807.77772198 160327.05337196 193718.79241616 396278.76988813\n",
            "  97065.66463416 274069.96886241 425799.97318671 151457.13474324\n",
            " 271313.98658115 216947.62005161]\n",
            "Mean: 236878.67414575125\n",
            "Standard deviation: 100829.62089884015\n"
          ]
        }
      ]
    },
    {
      "cell_type": "code",
      "source": [
        "x_test_prepared = full_pipeline.transform(x_test)\n",
        "final_predictions = lin_reg.predict(x_test_prepared)\n",
        "\n",
        "print('RMSE test data: %.3f' % (\n",
        "np.sqrt(mean_squared_error(y_test,final_predictions))))\n",
        "print('R2 test data: %.3f' % (\n",
        "r2_score(y_test,final_predictions)))"
      ],
      "metadata": {
        "id": "2vyZEZgjUF29",
        "colab": {
          "base_uri": "https://localhost:8080/"
        },
        "outputId": "0c274587-8733-4823-c507-9beea1d65fef"
      },
      "execution_count": 45,
      "outputs": [
        {
          "output_type": "stream",
          "name": "stdout",
          "text": [
            "RMSE test data: 334474.820\n",
            "R2 test data: 0.821\n"
          ]
        }
      ]
    }
  ]
}